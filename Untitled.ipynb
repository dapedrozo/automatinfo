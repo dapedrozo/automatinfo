{
 "cells": [
  {
   "cell_type": "code",
   "execution_count": 133,
   "metadata": {},
   "outputs": [],
   "source": [
    "import pandas as pd\n",
    "import numpy as np\n",
    "import os"
   ]
  },
  {
   "cell_type": "code",
   "execution_count": 2,
   "metadata": {},
   "outputs": [],
   "source": [
    "lugares = pd.read_excel(\"lugares.xlsx\",usecols = {'MATRICULA','NIT','RAZONSOCIAL','IDLUGARTRABAJO','EMPLEADOSXLUGAR','DIRECCIONLUGARTRABAJO','CIUDADTRABAJO','IDENTIFICACIONRESPONSABLE','CIIU1','DESC_CIIU1','SECTOR1'})\n",
    "empleados = pd.read_excel(\"empleados.xlsx\",usecols = {'MATRICULA','ID_EMPLEADO','IDLUGARTRABAJO','EMPLEADO','DIRECCIONEMPLEADO','CIUDADEMPLEADO','MEDIOTRANSPORTE'})"
   ]
  },
  {
   "cell_type": "code",
   "execution_count": 59,
   "metadata": {},
   "outputs": [],
   "source": [
    "#lugares.head()"
   ]
  },
  {
   "cell_type": "code",
   "execution_count": 60,
   "metadata": {},
   "outputs": [],
   "source": [
    "#empleados.head()"
   ]
  },
  {
   "cell_type": "code",
   "execution_count": 3,
   "metadata": {},
   "outputs": [
    {
     "data": {
      "text/plain": [
       "(14765, 88648)"
      ]
     },
     "execution_count": 3,
     "metadata": {},
     "output_type": "execute_result"
    }
   ],
   "source": [
    "len(lugares), len(empleados)"
   ]
  },
  {
   "cell_type": "code",
   "execution_count": 4,
   "metadata": {},
   "outputs": [],
   "source": [
    "uniondatos = lugares.merge(empleados, how='inner')"
   ]
  },
  {
   "cell_type": "code",
   "execution_count": 61,
   "metadata": {},
   "outputs": [],
   "source": [
    "#uniondatos.head()"
   ]
  },
  {
   "cell_type": "code",
   "execution_count": 5,
   "metadata": {},
   "outputs": [
    {
     "data": {
      "text/plain": [
       "86564"
      ]
     },
     "execution_count": 5,
     "metadata": {},
     "output_type": "execute_result"
    }
   ],
   "source": [
    "len(uniondatos)"
   ]
  },
  {
   "cell_type": "code",
   "execution_count": 6,
   "metadata": {},
   "outputs": [
    {
     "data": {
      "text/plain": [
       "86539"
      ]
     },
     "execution_count": 6,
     "metadata": {},
     "output_type": "execute_result"
    }
   ],
   "source": [
    "uniondatos = uniondatos.drop(uniondatos[uniondatos['CIIU1']==\"D242100\"].index)\n",
    "uniondatos = uniondatos.drop(uniondatos[uniondatos['CIIU1']==\"D252900\"].index)\n",
    "uniondatos = uniondatos.drop(uniondatos[uniondatos['CIIU1']==\"D221100\"].index)\n",
    "uniondatos = uniondatos.drop(uniondatos[uniondatos['CIIU1']==\"G502000\"].index)\n",
    "len(uniondatos)"
   ]
  },
  {
   "cell_type": "code",
   "execution_count": 7,
   "metadata": {},
   "outputs": [],
   "source": [
    "uniondatos['CIIU1']=uniondatos['CIIU1'].fillna(0).astype(np.int64)"
   ]
  },
  {
   "cell_type": "code",
   "execution_count": 8,
   "metadata": {},
   "outputs": [],
   "source": [
    "consoobra = uniondatos[(uniondatos[\"CIIU1\"]==4111) | (uniondatos[\"CIIU1\"]==4112)| (uniondatos[\"CIIU1\"]==4210)\n",
    "                    | (uniondatos[\"CIIU1\"]==4220)| (uniondatos[\"CIIU1\"]==4290)| (uniondatos[\"CIIU1\"]==4311)\n",
    "                    |(uniondatos[\"CIIU1\"]==4312)| (uniondatos[\"CIIU1\"]==4321)| (uniondatos[\"CIIU1\"]==4322)\n",
    "                    | (uniondatos[\"CIIU1\"]==4329)| (uniondatos[\"CIIU1\"]==4330)| (uniondatos[\"CIIU1\"]==4390)\n",
    "                    ]\n",
    "\n",
    "consomanu = uniondatos[(uniondatos[\"CIIU1\"]==1311) | (uniondatos[\"CIIU1\"]==1312)| (uniondatos[\"CIIU1\"]==1313)\n",
    "                    | (uniondatos[\"CIIU1\"]==1391)| (uniondatos[\"CIIU1\"]==1392)| (uniondatos[\"CIIU1\"]==1393)\n",
    "                    | (uniondatos[\"CIIU1\"]==1394)| (uniondatos[\"CIIU1\"]==1399)| (uniondatos[\"CIIU1\"]==1410)\n",
    "                    | (uniondatos[\"CIIU1\"]==1420)| (uniondatos[\"CIIU1\"]==1430)| (uniondatos[\"CIIU1\"]==1511)\n",
    "                    | (uniondatos[\"CIIU1\"]==1512)| (uniondatos[\"CIIU1\"]==1513)| (uniondatos[\"CIIU1\"]==1521)\n",
    "                    | (uniondatos[\"CIIU1\"]==1522)| (uniondatos[\"CIIU1\"]==1523)| (uniondatos[\"CIIU1\"]==1610)\n",
    "                    | (uniondatos[\"CIIU1\"]==1620)| (uniondatos[\"CIIU1\"]==1630)| (uniondatos[\"CIIU1\"]==1640)\n",
    "                    | (uniondatos[\"CIIU1\"]==1690)| (uniondatos[\"CIIU1\"]==1701)| (uniondatos[\"CIIU1\"]==1702)\n",
    "                    | (uniondatos[\"CIIU1\"]==1709)| (uniondatos[\"CIIU1\"]==1910)| (uniondatos[\"CIIU1\"]==2011)\n",
    "                    | (uniondatos[\"CIIU1\"]==2013)| (uniondatos[\"CIIU1\"]==2014)| (uniondatos[\"CIIU1\"]==2022)\n",
    "                    | (uniondatos[\"CIIU1\"]==2023)| (uniondatos[\"CIIU1\"]==2029)| (uniondatos[\"CIIU1\"]==2030)\n",
    "                    | (uniondatos[\"CIIU1\"]==2100)| (uniondatos[\"CIIU1\"]==2211)| (uniondatos[\"CIIU1\"]==2212)    \n",
    "                    | (uniondatos[\"CIIU1\"]==2219)| (uniondatos[\"CIIU1\"]==2221)| (uniondatos[\"CIIU1\"]==2229)\n",
    "                    | (uniondatos[\"CIIU1\"]==2310)| (uniondatos[\"CIIU1\"]==2391)| (uniondatos[\"CIIU1\"]==2392)\n",
    "                    | (uniondatos[\"CIIU1\"]==2393)| (uniondatos[\"CIIU1\"]==2395)| (uniondatos[\"CIIU1\"]==2396)\n",
    "                    | (uniondatos[\"CIIU1\"]==2399)| (uniondatos[\"CIIU1\"]==2410)| (uniondatos[\"CIIU1\"]==2421)\n",
    "                    | (uniondatos[\"CIIU1\"]==2429)| (uniondatos[\"CIIU1\"]==2431)| (uniondatos[\"CIIU1\"]==2432)\n",
    "                    | (uniondatos[\"CIIU1\"]==2511)| (uniondatos[\"CIIU1\"]==2512)| (uniondatos[\"CIIU1\"]==2513)\n",
    "                    | (uniondatos[\"CIIU1\"]==2520)| (uniondatos[\"CIIU1\"]==2591)| (uniondatos[\"CIIU1\"]==2592)\n",
    "                    | (uniondatos[\"CIIU1\"]==2593)| (uniondatos[\"CIIU1\"]==2599)| (uniondatos[\"CIIU1\"]==2660)\n",
    "                    | (uniondatos[\"CIIU1\"]==2711)| (uniondatos[\"CIIU1\"]==2712)| (uniondatos[\"CIIU1\"]==2720)\n",
    "                    | (uniondatos[\"CIIU1\"]==2731)| (uniondatos[\"CIIU1\"]==2732)| (uniondatos[\"CIIU1\"]==2740)\n",
    "                    | (uniondatos[\"CIIU1\"]==2750)| (uniondatos[\"CIIU1\"]==2790)| (uniondatos[\"CIIU1\"]==2811)\n",
    "                    | (uniondatos[\"CIIU1\"]==2812)| (uniondatos[\"CIIU1\"]==2813)| (uniondatos[\"CIIU1\"]==2814)    \n",
    "                    | (uniondatos[\"CIIU1\"]==2815)| (uniondatos[\"CIIU1\"]==2816)| (uniondatos[\"CIIU1\"]==2817)\n",
    "                    | (uniondatos[\"CIIU1\"]==2818)| (uniondatos[\"CIIU1\"]==2819)| (uniondatos[\"CIIU1\"]==2821)\n",
    "                    | (uniondatos[\"CIIU1\"]==2822)| (uniondatos[\"CIIU1\"]==2823)| (uniondatos[\"CIIU1\"]==2824)\n",
    "                    | (uniondatos[\"CIIU1\"]==2825)| (uniondatos[\"CIIU1\"]==2826)| (uniondatos[\"CIIU1\"]==2829)\n",
    "                    | (uniondatos[\"CIIU1\"]==3092)| (uniondatos[\"CIIU1\"]==3250)| (uniondatos[\"CIIU1\"]==3311)\n",
    "                    | (uniondatos[\"CIIU1\"]==3312)| (uniondatos[\"CIIU1\"]==3315)| (uniondatos[\"CIIU1\"]==3319)\n",
    "                    | (uniondatos[\"CIIU1\"]==3320)| (uniondatos[\"CIIU1\"]==4659)| (uniondatos[\"CIIU1\"]==4751)]\n",
    "\n",
    "consocomer = uniondatos[(uniondatos[\"CIIU1\"]==4752)| (uniondatos[\"CIIU1\"]==4663)| (uniondatos[\"CIIU1\"]==4731)\n",
    "                    | (uniondatos[\"CIIU1\"]==4732)| (uniondatos[\"CIIU1\"]==2910)| (uniondatos[\"CIIU1\"]==2920)\n",
    "                    | (uniondatos[\"CIIU1\"]==2930)| (uniondatos[\"CIIU1\"]==3091)| (uniondatos[\"CIIU1\"]==4511)\n",
    "                    | (uniondatos[\"CIIU1\"]==4512)| (uniondatos[\"CIIU1\"]==4542)| (uniondatos[\"CIIU1\"]==4662)\n",
    "                    | (uniondatos[\"CIIU1\"]==4664)| (uniondatos[\"CIIU1\"]==4665)| (uniondatos[\"CIIU1\"]==7730)\n",
    "                    | (uniondatos[\"CIIU1\"]==9601)| (uniondatos[\"CIIU1\"]==3110)| (uniondatos[\"CIIU1\"]==3120)\n",
    "                    | (uniondatos[\"CIIU1\"]==9524)| (uniondatos[\"CIIU1\"]==4753)| (uniondatos[\"CIIU1\"]==4754)\n",
    "                    | (uniondatos[\"CIIU1\"]==4755)| (uniondatos[\"CIIU1\"]==4641)| (uniondatos[\"CIIU1\"]==4642)\n",
    "                    | (uniondatos[\"CIIU1\"]==4643)| (uniondatos[\"CIIU1\"]==4644)| (uniondatos[\"CIIU1\"]==4771)\n",
    "                    | (uniondatos[\"CIIU1\"]==4772)| (uniondatos[\"CIIU1\"]==9523)| (uniondatos[\"CIIU1\"]==2610)\n",
    "                    | (uniondatos[\"CIIU1\"]==2620)| (uniondatos[\"CIIU1\"]==2630)| (uniondatos[\"CIIU1\"]==2640)\n",
    "                    | (uniondatos[\"CIIU1\"]==2651)| (uniondatos[\"CIIU1\"]==2652)| (uniondatos[\"CIIU1\"]==2670)\n",
    "                    | (uniondatos[\"CIIU1\"]==2680)| (uniondatos[\"CIIU1\"]==3313)| (uniondatos[\"CIIU1\"]==3314)\n",
    "                    | (uniondatos[\"CIIU1\"]==9511)| (uniondatos[\"CIIU1\"]==4761)| (uniondatos[\"CIIU1\"]==7710)\n",
    "                    | (uniondatos[\"CIIU1\"]==4759)\n",
    "                    ]\n",
    "\n",
    "consotaller = uniondatos[(uniondatos[\"CIIU1\"]==4520) | (uniondatos[\"CIIU1\"]==4530)\n",
    "                    ]"
   ]
  },
  {
   "cell_type": "markdown",
   "metadata": {},
   "source": [
    "# EMPLEADOS"
   ]
  },
  {
   "cell_type": "code",
   "execution_count": 67,
   "metadata": {},
   "outputs": [],
   "source": [
    "consolidadogeneral = pd.concat([consoobra, consomanu, consocomer, consotaller], axis=0, ignore_index = True)\n",
    "empleadostotales = len(consolidadogeneral)\n",
    "bucaramanga = consolidadogeneral[(consolidadogeneral[\"CIUDADTRABAJO\"]==\"BUCARAMANGA\")]\n",
    "florida = consolidadogeneral[(consolidadogeneral[\"CIUDADTRABAJO\"]==\"FLORIDABLANCA\")]\n",
    "giron = consolidadogeneral[(consolidadogeneral[\"CIUDADTRABAJO\"]==\"GIRON\")]\n",
    "pie = consolidadogeneral[(consolidadogeneral[\"CIUDADTRABAJO\"]==\"PIEDECUESTA\")]\n",
    "\n",
    "autoempleados = pd.DataFrame(columns=('BUCARAMANGA', 'FLORIDABLANCA', 'GIRON', 'PIEDECUESTA'))\n",
    "autoempleados.loc[len(autoempleados)]=[len(bucaramanga),len(florida),len(giron),len(pie)] \n",
    "autoempleados = autoempleados.T\n",
    "autoempleados.columns = ['población']"
   ]
  },
  {
   "cell_type": "code",
   "execution_count": 69,
   "metadata": {},
   "outputs": [],
   "source": [
    "bucaramanga = consoobra[(consoobra[\"CIUDADTRABAJO\"]==\"BUCARAMANGA\")]\n",
    "florida = consoobra[(consoobra[\"CIUDADTRABAJO\"]==\"FLORIDABLANCA\")]\n",
    "giron = consoobra[(consoobra[\"CIUDADTRABAJO\"]==\"GIRON\")]\n",
    "pie = consoobra[(consoobra[\"CIUDADTRABAJO\"]==\"PIEDECUESTA\")]\n",
    "\n",
    "autoempleadosobra = pd.DataFrame(columns=('BUCARAMANGA', 'FLORIDABLANCA', 'GIRON', 'PIEDECUESTA'))\n",
    "autoempleadosobra.loc[len(autoempleadosobra)]=[len(bucaramanga),len(florida),len(giron),len(pie)] \n",
    "autoempleadosobra = autoempleadosobra.T\n",
    "autoempleadosobra.columns = ['población']"
   ]
  },
  {
   "cell_type": "code",
   "execution_count": 70,
   "metadata": {},
   "outputs": [],
   "source": [
    "bucaramanga = consomanu[(consomanu[\"CIUDADTRABAJO\"]==\"BUCARAMANGA\")]\n",
    "florida = consomanu[(consomanu[\"CIUDADTRABAJO\"]==\"FLORIDABLANCA\")]\n",
    "giron = consomanu[(consomanu[\"CIUDADTRABAJO\"]==\"GIRON\")]\n",
    "pie = consomanu[(consomanu[\"CIUDADTRABAJO\"]==\"PIEDECUESTA\")]\n",
    "\n",
    "autoempleadosmanu = pd.DataFrame(columns=('BUCARAMANGA', 'FLORIDABLANCA', 'GIRON', 'PIEDECUESTA'))\n",
    "autoempleadosmanu.loc[len(autoempleadosmanu)]=[len(bucaramanga),len(florida),len(giron),len(pie)] \n",
    "autoempleadosmanu = autoempleadosmanu.T\n",
    "autoempleadosmanu.columns = ['población']"
   ]
  },
  {
   "cell_type": "code",
   "execution_count": 72,
   "metadata": {},
   "outputs": [],
   "source": [
    "bucaramanga = consocomer[(consocomer[\"CIUDADTRABAJO\"]==\"BUCARAMANGA\")]\n",
    "florida = consocomer[(consocomer[\"CIUDADTRABAJO\"]==\"FLORIDABLANCA\")]\n",
    "giron = consocomer[(consocomer[\"CIUDADTRABAJO\"]==\"GIRON\")]\n",
    "pie = consocomer[(consocomer[\"CIUDADTRABAJO\"]==\"PIEDECUESTA\")]\n",
    "\n",
    "autoempleadoscomer = pd.DataFrame(columns=('BUCARAMANGA', 'FLORIDABLANCA', 'GIRON', 'PIEDECUESTA'))\n",
    "autoempleadoscomer.loc[len(autoempleadoscomer)]=[len(bucaramanga),len(florida),len(giron),len(pie)] \n",
    "autoempleadoscomer = autoempleadoscomer.T\n",
    "autoempleadoscomer.columns = ['población']"
   ]
  },
  {
   "cell_type": "code",
   "execution_count": 74,
   "metadata": {},
   "outputs": [],
   "source": [
    "bucaramanga = consotaller[(consotaller[\"CIUDADTRABAJO\"]==\"BUCARAMANGA\")]\n",
    "florida = consotaller[(consotaller[\"CIUDADTRABAJO\"]==\"FLORIDABLANCA\")]\n",
    "giron = consotaller[(consotaller[\"CIUDADTRABAJO\"]==\"GIRON\")]\n",
    "pie = consotaller[(consotaller[\"CIUDADTRABAJO\"]==\"PIEDECUESTA\")]\n",
    "\n",
    "\n",
    "autoempleadostaller = pd.DataFrame(columns=('BUCARAMANGA', 'FLORIDABLANCA', 'GIRON', 'PIEDECUESTA'))\n",
    "autoempleadostaller.loc[len(autoempleadostaller)]=[len(bucaramanga),len(florida),len(giron),len(pie)] \n",
    "autoempleadostaller = autoempleadostaller.T\n",
    "autoempleadostaller.columns = ['población']"
   ]
  },
  {
   "cell_type": "code",
   "execution_count": null,
   "metadata": {},
   "outputs": [],
   "source": [
    "os.mkdir('empleados')\n",
    "autoempleados.to_excel('empleados/totalempleados.xlsx')\n",
    "autoempleadosobra.to_excel('empleados/empleadosobra.xlsx')\n",
    "autoempleadosmanu.to_excel('empleados/empleadosmanu.xlsx')\n",
    "autoempleadoscomer.to_excel('empleados/empleadoscomer.xlsx')\n",
    "autoempleadostaller.to_excel('empleados/empleadostaller.xlsx')"
   ]
  },
  {
   "cell_type": "code",
   "execution_count": null,
   "metadata": {},
   "outputs": [],
   "source": []
  },
  {
   "cell_type": "code",
   "execution_count": 21,
   "metadata": {},
   "outputs": [],
   "source": [
    "consotransporte = consolidadogeneral.groupby(['CIUDADEMPLEADO','CIUDADTRABAJO','MEDIOTRANSPORTE'])[['CIIU1']].count()"
   ]
  },
  {
   "cell_type": "code",
   "execution_count": 24,
   "metadata": {},
   "outputs": [],
   "source": [
    "consoobra2 = lugares[(lugares[\"CIIU1\"]==4111) | (lugares[\"CIIU1\"]==4112)| (lugares[\"CIIU1\"]==4210)\n",
    "                    | (lugares[\"CIIU1\"]==4220)| (lugares[\"CIIU1\"]==4290)| (lugares[\"CIIU1\"]==4311)\n",
    "                    |(lugares[\"CIIU1\"]==4312)| (lugares[\"CIIU1\"]==4321)| (lugares[\"CIIU1\"]==4322)\n",
    "                    | (lugares[\"CIIU1\"]==4329)| (lugares[\"CIIU1\"]==4330)| (lugares[\"CIIU1\"]==4390)\n",
    "                    ]\n",
    "\n",
    "consomanu2 = lugares[(lugares[\"CIIU1\"]==1311) | (lugares[\"CIIU1\"]==1312)| (lugares[\"CIIU1\"]==1313)\n",
    "                    | (lugares[\"CIIU1\"]==1391)| (lugares[\"CIIU1\"]==1392)| (lugares[\"CIIU1\"]==1393)\n",
    "                    | (lugares[\"CIIU1\"]==1394)| (lugares[\"CIIU1\"]==1399)| (lugares[\"CIIU1\"]==1410)\n",
    "                    | (lugares[\"CIIU1\"]==1420)| (lugares[\"CIIU1\"]==1430)| (lugares[\"CIIU1\"]==1511)\n",
    "                    | (lugares[\"CIIU1\"]==1512)| (lugares[\"CIIU1\"]==1513)| (lugares[\"CIIU1\"]==1521)\n",
    "                    | (lugares[\"CIIU1\"]==1522)| (lugares[\"CIIU1\"]==1523)| (lugares[\"CIIU1\"]==1610)\n",
    "                    | (lugares[\"CIIU1\"]==1620)| (lugares[\"CIIU1\"]==1630)| (lugares[\"CIIU1\"]==1640)\n",
    "                    | (lugares[\"CIIU1\"]==1690)| (lugares[\"CIIU1\"]==1701)| (lugares[\"CIIU1\"]==1702)\n",
    "                    | (lugares[\"CIIU1\"]==1709)| (lugares[\"CIIU1\"]==1910)| (lugares[\"CIIU1\"]==2011)\n",
    "                    | (lugares[\"CIIU1\"]==2013)| (lugares[\"CIIU1\"]==2014)| (lugares[\"CIIU1\"]==2022)\n",
    "                    | (lugares[\"CIIU1\"]==2023)| (lugares[\"CIIU1\"]==2029)| (lugares[\"CIIU1\"]==2030)\n",
    "                    | (lugares[\"CIIU1\"]==2100)| (lugares[\"CIIU1\"]==2211)| (lugares[\"CIIU1\"]==2212)    \n",
    "                    | (lugares[\"CIIU1\"]==2219)| (lugares[\"CIIU1\"]==2221)| (lugares[\"CIIU1\"]==2229)\n",
    "                    | (lugares[\"CIIU1\"]==2310)| (lugares[\"CIIU1\"]==2391)| (lugares[\"CIIU1\"]==2392)\n",
    "                    | (lugares[\"CIIU1\"]==2393)| (lugares[\"CIIU1\"]==2395)| (lugares[\"CIIU1\"]==2396)\n",
    "                    | (lugares[\"CIIU1\"]==2399)| (lugares[\"CIIU1\"]==2410)| (lugares[\"CIIU1\"]==2421)\n",
    "                    | (lugares[\"CIIU1\"]==2429)| (lugares[\"CIIU1\"]==2431)| (lugares[\"CIIU1\"]==2432)\n",
    "                    | (lugares[\"CIIU1\"]==2511)| (lugares[\"CIIU1\"]==2512)| (lugares[\"CIIU1\"]==2513)\n",
    "                    | (lugares[\"CIIU1\"]==2520)| (lugares[\"CIIU1\"]==2591)| (lugares[\"CIIU1\"]==2592)\n",
    "                    | (lugares[\"CIIU1\"]==2593)| (lugares[\"CIIU1\"]==2599)| (lugares[\"CIIU1\"]==2660)\n",
    "                    | (lugares[\"CIIU1\"]==2711)| (lugares[\"CIIU1\"]==2712)| (lugares[\"CIIU1\"]==2720)\n",
    "                    | (lugares[\"CIIU1\"]==2731)| (lugares[\"CIIU1\"]==2732)| (lugares[\"CIIU1\"]==2740)\n",
    "                    | (lugares[\"CIIU1\"]==2750)| (lugares[\"CIIU1\"]==2790)| (lugares[\"CIIU1\"]==2811)\n",
    "                    | (lugares[\"CIIU1\"]==2812)| (lugares[\"CIIU1\"]==2813)| (lugares[\"CIIU1\"]==2814)    \n",
    "                    | (lugares[\"CIIU1\"]==2815)| (lugares[\"CIIU1\"]==2816)| (lugares[\"CIIU1\"]==2817)\n",
    "                    | (lugares[\"CIIU1\"]==2818)| (lugares[\"CIIU1\"]==2819)| (lugares[\"CIIU1\"]==2821)\n",
    "                    | (lugares[\"CIIU1\"]==2822)| (lugares[\"CIIU1\"]==2823)| (lugares[\"CIIU1\"]==2824)\n",
    "                    | (lugares[\"CIIU1\"]==2825)| (lugares[\"CIIU1\"]==2826)| (lugares[\"CIIU1\"]==2829)\n",
    "                    | (lugares[\"CIIU1\"]==3092)| (lugares[\"CIIU1\"]==3250)| (lugares[\"CIIU1\"]==3311)\n",
    "                    | (lugares[\"CIIU1\"]==3312)| (lugares[\"CIIU1\"]==3315)| (lugares[\"CIIU1\"]==3319)\n",
    "                    | (lugares[\"CIIU1\"]==3320)| (lugares[\"CIIU1\"]==4659)| (lugares[\"CIIU1\"]==4751)\n",
    "                    ]\n",
    "\n",
    "consocomer2 = lugares[(lugares[\"CIIU1\"]==4752)| (lugares[\"CIIU1\"]==4663)| (lugares[\"CIIU1\"]==4731)\n",
    "                    | (lugares[\"CIIU1\"]==4732)| (lugares[\"CIIU1\"]==2910)| (lugares[\"CIIU1\"]==2920)\n",
    "                    | (lugares[\"CIIU1\"]==2930)| (lugares[\"CIIU1\"]==3091)| (lugares[\"CIIU1\"]==4511)\n",
    "                    | (lugares[\"CIIU1\"]==4512)| (lugares[\"CIIU1\"]==4542)| (lugares[\"CIIU1\"]==4662)\n",
    "                    | (lugares[\"CIIU1\"]==4664)| (lugares[\"CIIU1\"]==4665)| (lugares[\"CIIU1\"]==7730)\n",
    "                    | (lugares[\"CIIU1\"]==9601)| (lugares[\"CIIU1\"]==3110)| (lugares[\"CIIU1\"]==3120)\n",
    "                    | (lugares[\"CIIU1\"]==9524)| (lugares[\"CIIU1\"]==4753)| (lugares[\"CIIU1\"]==4754)\n",
    "                    | (lugares[\"CIIU1\"]==4755)| (lugares[\"CIIU1\"]==4641)| (lugares[\"CIIU1\"]==4642)\n",
    "                    | (lugares[\"CIIU1\"]==4643)| (lugares[\"CIIU1\"]==4644)| (lugares[\"CIIU1\"]==4771)\n",
    "                    | (lugares[\"CIIU1\"]==4772)| (lugares[\"CIIU1\"]==9523)| (lugares[\"CIIU1\"]==2610)\n",
    "                    | (lugares[\"CIIU1\"]==2620)| (lugares[\"CIIU1\"]==2630)| (lugares[\"CIIU1\"]==2640)\n",
    "                    | (lugares[\"CIIU1\"]==2651)| (lugares[\"CIIU1\"]==2652)| (lugares[\"CIIU1\"]==2670)\n",
    "                    | (lugares[\"CIIU1\"]==2680)| (lugares[\"CIIU1\"]==3313)| (lugares[\"CIIU1\"]==3314)\n",
    "                    | (lugares[\"CIIU1\"]==9511)| (lugares[\"CIIU1\"]==4761)| (lugares[\"CIIU1\"]==7710)\n",
    "                    | (lugares[\"CIIU1\"]==4759)\n",
    "                    ]\n",
    "\n",
    "consotaller2 = lugares[(lugares[\"CIIU1\"]==4520) | (lugares[\"CIIU1\"]==4530)\n",
    "                    ]"
   ]
  },
  {
   "cell_type": "markdown",
   "metadata": {},
   "source": [
    "# LUGARES DE TRABAJO"
   ]
  },
  {
   "cell_type": "code",
   "execution_count": 98,
   "metadata": {},
   "outputs": [],
   "source": [
    "consolidadogeneral2 = pd.concat([consoobra2, consomanu2, consocomer2, consotaller2], axis=0, ignore_index = True)\n",
    "\n",
    "lugarestotales = len(consolidadogeneral2)\n",
    "bucaramanga = consolidadogeneral2[(consolidadogeneral2[\"CIUDADTRABAJO\"]==\"BUCARAMANGA\")]\n",
    "florida = consolidadogeneral2[(consolidadogeneral2[\"CIUDADTRABAJO\"]==\"FLORIDABLANCA\")]\n",
    "giron = consolidadogeneral2[(consolidadogeneral2[\"CIUDADTRABAJO\"]==\"GIRON\")]\n",
    "pie = consolidadogeneral2[(consolidadogeneral2[\"CIUDADTRABAJO\"]==\"PIEDECUESTA\")]\n",
    "\n",
    "autolugares = pd.DataFrame(columns=('BUCARAMANGA', 'FLORIDABLANCA', 'GIRON', 'PIEDECUESTA'))\n",
    "autolugares.loc[len(autolugares)]=[len(bucaramanga),len(florida),len(giron),len(pie)] \n",
    "autolugares = autolugares.T\n",
    "autolugares.columns = ['población']"
   ]
  },
  {
   "cell_type": "code",
   "execution_count": 99,
   "metadata": {},
   "outputs": [],
   "source": [
    "bucaramanga = consoobra2[(consoobra2[\"CIUDADTRABAJO\"]==\"BUCARAMANGA\")]\n",
    "florida = consoobra2[(consoobra2[\"CIUDADTRABAJO\"]==\"FLORIDABLANCA\")]\n",
    "giron = consoobra2[(consoobra2[\"CIUDADTRABAJO\"]==\"GIRON\")]\n",
    "pie = consoobra2[(consoobra2[\"CIUDADTRABAJO\"]==\"PIEDECUESTA\")]\n",
    "\n",
    "autolugaresobra = pd.DataFrame(columns=('BUCARAMANGA', 'FLORIDABLANCA', 'GIRON', 'PIEDECUESTA'))\n",
    "autolugaresobra.loc[len(autolugaresobra)]=[len(bucaramanga),len(florida),len(giron),len(pie)] \n",
    "autolugaresobra = autolugaresobra.T\n",
    "autolugaresobra.columns = ['población']"
   ]
  },
  {
   "cell_type": "code",
   "execution_count": 101,
   "metadata": {},
   "outputs": [],
   "source": [
    "bucaramanga = consomanu2[(consomanu2[\"CIUDADTRABAJO\"]==\"BUCARAMANGA\")]\n",
    "florida = consomanu2[(consomanu2[\"CIUDADTRABAJO\"]==\"FLORIDABLANCA\")]\n",
    "giron = consomanu2[(consomanu2[\"CIUDADTRABAJO\"]==\"GIRON\")]\n",
    "pie = consomanu2[(consomanu2[\"CIUDADTRABAJO\"]==\"PIEDECUESTA\")]\n",
    "\n",
    "autolugaresmanu = pd.DataFrame(columns=('BUCARAMANGA', 'FLORIDABLANCA', 'GIRON', 'PIEDECUESTA'))\n",
    "autolugaresmanu.loc[len(autolugaresmanu)]=[len(bucaramanga),len(florida),len(giron),len(pie)] \n",
    "autolugaresmanu = autolugaresmanu.T\n",
    "autolugaresmanu.columns = ['población']"
   ]
  },
  {
   "cell_type": "code",
   "execution_count": 102,
   "metadata": {},
   "outputs": [],
   "source": [
    "bucaramanga = consocomer2[(consocomer2[\"CIUDADTRABAJO\"]==\"BUCARAMANGA\")]\n",
    "florida = consocomer2[(consocomer2[\"CIUDADTRABAJO\"]==\"FLORIDABLANCA\")]\n",
    "giron = consocomer2[(consocomer2[\"CIUDADTRABAJO\"]==\"GIRON\")]\n",
    "pie = consocomer2[(consocomer2[\"CIUDADTRABAJO\"]==\"PIEDECUESTA\")]\n",
    "\n",
    "autolugarescomer = pd.DataFrame(columns=('BUCARAMANGA', 'FLORIDABLANCA', 'GIRON', 'PIEDECUESTA'))\n",
    "autolugarescomer.loc[len(autolugarescomer)]=[len(bucaramanga),len(florida),len(giron),len(pie)] \n",
    "autolugarescomer = autolugarescomer.T\n",
    "autolugarescomer.columns = ['población']"
   ]
  },
  {
   "cell_type": "code",
   "execution_count": 103,
   "metadata": {},
   "outputs": [],
   "source": [
    "bucaramanga = consotaller2[(consotaller2[\"CIUDADTRABAJO\"]==\"BUCARAMANGA\")]\n",
    "florida = consotaller2[(consotaller2[\"CIUDADTRABAJO\"]==\"FLORIDABLANCA\")]\n",
    "giron = consotaller2[(consotaller2[\"CIUDADTRABAJO\"]==\"GIRON\")]\n",
    "pie = consotaller2[(consotaller2[\"CIUDADTRABAJO\"]==\"PIEDECUESTA\")]\n",
    "\n",
    "autolugarestaller = pd.DataFrame(columns=('BUCARAMANGA', 'FLORIDABLANCA', 'GIRON', 'PIEDECUESTA'))\n",
    "autolugarestaller.loc[len(autolugarestaller)]=[len(bucaramanga),len(florida),len(giron),len(pie)] \n",
    "autolugarestaller = autolugarestaller.T\n",
    "autolugarestaller.columns = ['población']"
   ]
  },
  {
   "cell_type": "code",
   "execution_count": 37,
   "metadata": {},
   "outputs": [],
   "source": [
    "os.mkdir('lugares')\n",
    "autolugares.to_excel('lugares/totallugares.xlsx')\n",
    "autolugaresobra.to_excel('lugares/lugaresobra.xlsx')\n",
    "autolugaresmanu.to_excel('lugares/lugaresmanu.xlsx')\n",
    "autolugarescomer.to_excel('lugares/lugarescomer.xlsx')\n",
    "autolugarestaller.to_excel('lugares/lugarestaller.xlsx')"
   ]
  },
  {
   "cell_type": "code",
   "execution_count": null,
   "metadata": {},
   "outputs": [],
   "source": []
  },
  {
   "cell_type": "markdown",
   "metadata": {},
   "source": [
    "# EMPRESAS SIN DUPLICADOS"
   ]
  },
  {
   "cell_type": "code",
   "execution_count": 105,
   "metadata": {},
   "outputs": [],
   "source": [
    "obranodup = consoobra2.drop_duplicates(['NIT', 'RAZONSOCIAL'], keep='first')\n",
    "bucaramanga = obranodup[(obranodup[\"CIUDADTRABAJO\"]==\"BUCARAMANGA\")]\n",
    "florida = obranodup[(obranodup[\"CIUDADTRABAJO\"]==\"FLORIDABLANCA\")]\n",
    "giron = obranodup[(obranodup[\"CIUDADTRABAJO\"]==\"GIRON\")]\n",
    "pie = obranodup[(obranodup[\"CIUDADTRABAJO\"]==\"PIEDECUESTA\")]\n",
    "\n",
    "autonodupobra = pd.DataFrame(columns=('BUCARAMANGA', 'FLORIDABLANCA', 'GIRON', 'PIEDECUESTA'))\n",
    "autonodupobra.loc[len(autonodupobra)]=[len(bucaramanga),len(florida),len(giron),len(pie)] \n",
    "autonodupobra = autonodupobra.T\n",
    "autonodupobra.columns = ['población']"
   ]
  },
  {
   "cell_type": "code",
   "execution_count": 107,
   "metadata": {},
   "outputs": [],
   "source": [
    "manunodup = consomanu2.drop_duplicates(['NIT', 'RAZONSOCIAL'], keep='first')\n",
    "bucaramanga = manunodup[(manunodup[\"CIUDADTRABAJO\"]==\"BUCARAMANGA\")]\n",
    "florida = manunodup[(manunodup[\"CIUDADTRABAJO\"]==\"FLORIDABLANCA\")]\n",
    "giron = manunodup[(manunodup[\"CIUDADTRABAJO\"]==\"GIRON\")]\n",
    "pie = manunodup[(manunodup[\"CIUDADTRABAJO\"]==\"PIEDECUESTA\")]\n",
    "\n",
    "autonodupmanu = pd.DataFrame(columns=('BUCARAMANGA', 'FLORIDABLANCA', 'GIRON', 'PIEDECUESTA'))\n",
    "autonodupmanu.loc[len(autonodupmanu)]=[len(bucaramanga),len(florida),len(giron),len(pie)] \n",
    "autonodupmanu = autonodupmanu.T\n",
    "autonodupmanu.columns = ['población']"
   ]
  },
  {
   "cell_type": "code",
   "execution_count": 109,
   "metadata": {},
   "outputs": [],
   "source": [
    "comernodup = consocomer2.drop_duplicates(['NIT', 'RAZONSOCIAL'], keep='first')\n",
    "bucaramanga = comernodup[(comernodup[\"CIUDADTRABAJO\"]==\"BUCARAMANGA\")]\n",
    "florida = comernodup[(comernodup[\"CIUDADTRABAJO\"]==\"FLORIDABLANCA\")]\n",
    "giron = comernodup[(comernodup[\"CIUDADTRABAJO\"]==\"GIRON\")]\n",
    "pie = comernodup[(comernodup[\"CIUDADTRABAJO\"]==\"PIEDECUESTA\")]\n",
    "\n",
    "autonodupcomer = pd.DataFrame(columns=('BUCARAMANGA', 'FLORIDABLANCA', 'GIRON', 'PIEDECUESTA'))\n",
    "autonodupcomer.loc[len(autonodupcomer)]=[len(bucaramanga),len(florida),len(giron),len(pie)] \n",
    "autonodupcomer = autonodupcomer.T\n",
    "autonodupcomer.columns = ['población']"
   ]
  },
  {
   "cell_type": "code",
   "execution_count": 111,
   "metadata": {},
   "outputs": [],
   "source": [
    "tallernodup = consotaller2.drop_duplicates(['NIT', 'RAZONSOCIAL'], keep='first')\n",
    "bucaramanga = tallernodup[(tallernodup[\"CIUDADTRABAJO\"]==\"BUCARAMANGA\")]\n",
    "florida = tallernodup[(tallernodup[\"CIUDADTRABAJO\"]==\"FLORIDABLANCA\")]\n",
    "giron = tallernodup[(tallernodup[\"CIUDADTRABAJO\"]==\"GIRON\")]\n",
    "pie = tallernodup[(tallernodup[\"CIUDADTRABAJO\"]==\"PIEDECUESTA\")]\n",
    "\n",
    "autonoduptaller = pd.DataFrame(columns=('BUCARAMANGA', 'FLORIDABLANCA', 'GIRON', 'PIEDECUESTA'))\n",
    "autonoduptaller.loc[len(autonoduptaller)]=[len(bucaramanga),len(florida),len(giron),len(pie)] \n",
    "autonoduptaller = autonoduptaller.T\n",
    "autonoduptaller.columns = ['población']"
   ]
  },
  {
   "cell_type": "code",
   "execution_count": 49,
   "metadata": {},
   "outputs": [],
   "source": [
    "os.mkdir('empresas')\n",
    "autonodupobra.to_excel('empresas/empresasobra.xlsx')\n",
    "autonodupmanu.to_excel('empresas/empresasmanu.xlsx')\n",
    "autonodupcomer.to_excel('empresas/empresascomer.xlsx')\n",
    "autonoduptaller.to_excel('empresas/empresastaller.xlsx')"
   ]
  },
  {
   "cell_type": "code",
   "execution_count": null,
   "metadata": {},
   "outputs": [],
   "source": []
  },
  {
   "cell_type": "markdown",
   "metadata": {},
   "source": [
    "# PRINTS PARA LLENAR DATOS"
   ]
  },
  {
   "cell_type": "code",
   "execution_count": 118,
   "metadata": {},
   "outputs": [
    {
     "name": "stdout",
     "output_type": "stream",
     "text": [
      "empleados totales:50829\n",
      "              población\n",
      "BUCARAMANGA       36666\n",
      "FLORIDABLANCA      5278\n",
      "GIRON              5857\n",
      "PIEDECUESTA        3028\n",
      "\n",
      "\n",
      "empleados totales construccion:16839\n",
      "              población\n",
      "BUCARAMANGA       10021\n",
      "FLORIDABLANCA      3168\n",
      "GIRON              1863\n",
      "PIEDECUESTA        1787\n",
      "\n",
      "\n",
      "empleados totales manufactura:14838\n",
      "              población\n",
      "BUCARAMANGA       11289\n",
      "FLORIDABLANCA      1101\n",
      "GIRON              1949\n",
      "PIEDECUESTA         499\n",
      "\n",
      "\n",
      "empleados totales comercio:14697\n",
      "              población\n",
      "BUCARAMANGA       11508\n",
      "FLORIDABLANCA       926\n",
      "GIRON              1598\n",
      "PIEDECUESTA         665\n",
      "\n",
      "\n",
      "empleados totales taller:4455\n",
      "              población\n",
      "BUCARAMANGA        3848\n",
      "FLORIDABLANCA        83\n",
      "GIRON               447\n",
      "PIEDECUESTA          77\n"
     ]
    }
   ],
   "source": [
    "print(\"empleados totales:\"+str(empleadostotales))\n",
    "print(autoempleados)\n",
    "print(\"\\n\")\n",
    "print(\"empleados totales construccion:\"+str(len(consoobra)))\n",
    "print(autoempleadosobra)\n",
    "print(\"\\n\")\n",
    "print(\"empleados totales manufactura:\"+str(len(consomanu)))\n",
    "print(autoempleadosmanu)\n",
    "print(\"\\n\")\n",
    "print(\"empleados totales comercio:\"+str(len(consocomer)))\n",
    "print(autoempleadoscomer)\n",
    "print(\"\\n\")\n",
    "print(\"empleados totales taller:\"+str(len(consotaller)))\n",
    "print(autoempleadostaller)"
   ]
  },
  {
   "cell_type": "code",
   "execution_count": 119,
   "metadata": {},
   "outputs": [
    {
     "name": "stdout",
     "output_type": "stream",
     "text": [
      "lugares totales:8639\n",
      "              población\n",
      "BUCARAMANGA        6442\n",
      "FLORIDABLANCA       902\n",
      "GIRON               780\n",
      "PIEDECUESTA         515\n",
      "\n",
      "\n",
      "lugares obra totales:2078\n",
      "              población\n",
      "BUCARAMANGA        1262\n",
      "FLORIDABLANCA       361\n",
      "GIRON               243\n",
      "PIEDECUESTA         212\n",
      "\n",
      "\n",
      "lugares manufactura totales:2420\n",
      "              población\n",
      "BUCARAMANGA        1822\n",
      "FLORIDABLANCA       254\n",
      "GIRON               226\n",
      "PIEDECUESTA         118\n",
      "\n",
      "\n",
      "lugares comercio totales:3034\n",
      "              población\n",
      "BUCARAMANGA        2420\n",
      "FLORIDABLANCA       256\n",
      "GIRON               202\n",
      "PIEDECUESTA         156\n",
      "\n",
      "\n",
      "lugares comercio totales:1107\n",
      "              población\n",
      "BUCARAMANGA         938\n",
      "FLORIDABLANCA        31\n",
      "GIRON               109\n",
      "PIEDECUESTA          29\n"
     ]
    }
   ],
   "source": [
    "print(\"lugares totales:\"+str(lugarestotales))\n",
    "print(autolugares)\n",
    "print(\"\\n\")\n",
    "print(\"lugares obra totales:\"+str(len(consoobra2)))\n",
    "print(autolugaresobra)\n",
    "print(\"\\n\")\n",
    "print(\"lugares manufactura totales:\"+str(len(consomanu2)))\n",
    "print(autolugaresmanu)\n",
    "print(\"\\n\")\n",
    "print(\"lugares comercio totales:\"+str(len(consocomer2)))\n",
    "print(autolugarescomer)\n",
    "print(\"\\n\")\n",
    "print(\"lugares comercio totales:\"+str(len(consotaller2)))\n",
    "print(autolugarestaller)"
   ]
  },
  {
   "cell_type": "code",
   "execution_count": 120,
   "metadata": {},
   "outputs": [
    {
     "name": "stdout",
     "output_type": "stream",
     "text": [
      "empresas obra sin duplicado:1083\n",
      "              población\n",
      "BUCARAMANGA         697\n",
      "FLORIDABLANCA       191\n",
      "GIRON               107\n",
      "PIEDECUESTA          88\n",
      "\n",
      "\n",
      "empresas manufactura sin duplicado:1872\n",
      "              población\n",
      "BUCARAMANGA        1426\n",
      "FLORIDABLANCA       193\n",
      "GIRON               169\n",
      "PIEDECUESTA          84\n",
      "\n",
      "\n",
      "empresas comercio sin duplicado:2394\n",
      "              población\n",
      "BUCARAMANGA        1936\n",
      "FLORIDABLANCA       196\n",
      "GIRON               149\n",
      "PIEDECUESTA         113\n",
      "\n",
      "\n",
      "empresas taller sin duplicado:956\n",
      "              población\n",
      "BUCARAMANGA         807\n",
      "FLORIDABLANCA        28\n",
      "GIRON                93\n",
      "PIEDECUESTA          28\n"
     ]
    }
   ],
   "source": [
    "print(\"empresas obra sin duplicado:\"+str(len(obranodup)))\n",
    "print(autonodupobra)\n",
    "print(\"\\n\")\n",
    "print(\"empresas manufactura sin duplicado:\"+str(len(manunodup)))\n",
    "print(autonodupmanu)\n",
    "print(\"\\n\")\n",
    "print(\"empresas comercio sin duplicado:\"+str(len(comernodup)))\n",
    "print(autonodupcomer)\n",
    "print(\"\\n\")\n",
    "print(\"empresas taller sin duplicado:\"+str(len(tallernodup)))\n",
    "print(autonoduptaller)"
   ]
  },
  {
   "cell_type": "code",
   "execution_count": null,
   "metadata": {},
   "outputs": [],
   "source": []
  },
  {
   "cell_type": "markdown",
   "metadata": {},
   "source": [
    "# ORIGEN DESTINO"
   ]
  },
  {
   "cell_type": "code",
   "execution_count": 141,
   "metadata": {},
   "outputs": [],
   "source": [
    "bucarabucara = consolidadogeneral[(consolidadogeneral[\"CIUDADEMPLEADO\"]==\"Bucaramanga\")&(consolidadogeneral[\"CIUDADTRABAJO\"]==\"BUCARAMANGA\")]\n",
    "bucaraflori = consolidadogeneral[(consolidadogeneral[\"CIUDADEMPLEADO\"]==\"Bucaramanga\")&(consolidadogeneral[\"CIUDADTRABAJO\"]==\"FLORIDABLANCA\")]\n",
    "bucaragiron = consolidadogeneral[(consolidadogeneral[\"CIUDADEMPLEADO\"]==\"Bucaramanga\")&(consolidadogeneral[\"CIUDADTRABAJO\"]==\"GIRON\")]\n",
    "bucarapie = consolidadogeneral[(consolidadogeneral[\"CIUDADEMPLEADO\"]==\"Bucaramanga\")&(consolidadogeneral[\"CIUDADTRABAJO\"]==\"PIEDECUESTA\")]\n",
    "\n",
    "empleadosbucaraorigen = pd.DataFrame(columns=('Bucaramanga', 'Floridablanca', 'Giron', 'Piedecuesta'))\n",
    "empleadosbucaraorigen.loc[len(empleadosbucaraorigen)]=[len(bucarabucara),len(bucaraflori),len(bucaragiron),len(bucarapie)] \n",
    "empleadosbucaraorigen = empleadosbucaraorigen.T\n",
    "empleadosbucaraorigen.columns = ['Total']"
   ]
  },
  {
   "cell_type": "code",
   "execution_count": 142,
   "metadata": {},
   "outputs": [],
   "source": [
    "floribucara = consolidadogeneral[(consolidadogeneral[\"CIUDADEMPLEADO\"]==\"Floridablanca\")&(consolidadogeneral[\"CIUDADTRABAJO\"]==\"BUCARAMANGA\")]\n",
    "floriflori = consolidadogeneral[(consolidadogeneral[\"CIUDADEMPLEADO\"]==\"Floridablanca\")&(consolidadogeneral[\"CIUDADTRABAJO\"]==\"FLORIDABLANCA\")]\n",
    "florigiron = consolidadogeneral[(consolidadogeneral[\"CIUDADEMPLEADO\"]==\"Floridablanca\")&(consolidadogeneral[\"CIUDADTRABAJO\"]==\"GIRON\")]\n",
    "floripie = consolidadogeneral[(consolidadogeneral[\"CIUDADEMPLEADO\"]==\"Floridablanca\")&(consolidadogeneral[\"CIUDADTRABAJO\"]==\"PIEDECUESTA\")]\n",
    "\n",
    "empleadosfloriorigen = pd.DataFrame(columns=('Bucaramanga', 'Floridablanca', 'Giron', 'Piedecuesta'))\n",
    "empleadosfloriorigen.loc[len(empleadosfloriorigen)]=[len(floribucara),len(floriflori),len(florigiron),len(floripie)] \n",
    "empleadosfloriorigen = empleadosfloriorigen.T\n",
    "empleadosfloriorigen.columns = ['Total']"
   ]
  },
  {
   "cell_type": "code",
   "execution_count": 143,
   "metadata": {},
   "outputs": [],
   "source": [
    "gironbucara = consolidadogeneral[(consolidadogeneral[\"CIUDADEMPLEADO\"]==\"Giron\")&(consolidadogeneral[\"CIUDADTRABAJO\"]==\"BUCARAMANGA\")]\n",
    "gironflori = consolidadogeneral[(consolidadogeneral[\"CIUDADEMPLEADO\"]==\"Giron\")&(consolidadogeneral[\"CIUDADTRABAJO\"]==\"FLORIDABLANCA\")]\n",
    "girongiron = consolidadogeneral[(consolidadogeneral[\"CIUDADEMPLEADO\"]==\"Giron\")&(consolidadogeneral[\"CIUDADTRABAJO\"]==\"GIRON\")]\n",
    "gironpie = consolidadogeneral[(consolidadogeneral[\"CIUDADEMPLEADO\"]==\"Giron\")&(consolidadogeneral[\"CIUDADTRABAJO\"]==\"PIEDECUESTA\")]\n",
    "\n",
    "empleadosgironorigen = pd.DataFrame(columns=('Bucaramanga', 'Floridablanca', 'Giron', 'Piedecuesta'))\n",
    "empleadosgironorigen.loc[len(empleadosgironorigen)]=[len(gironbucara),len(gironflori),len(girongiron),len(gironpie)] \n",
    "empleadosgironorigen = empleadosgironorigen.T\n",
    "empleadosgironorigen.columns = ['Total']"
   ]
  },
  {
   "cell_type": "code",
   "execution_count": 144,
   "metadata": {},
   "outputs": [],
   "source": [
    "piebucara = consolidadogeneral[(consolidadogeneral[\"CIUDADEMPLEADO\"]==\"Piedecuesta\")&(consolidadogeneral[\"CIUDADTRABAJO\"]==\"BUCARAMANGA\")]\n",
    "pieflori = consolidadogeneral[(consolidadogeneral[\"CIUDADEMPLEADO\"]==\"Piedecuesta\")&(consolidadogeneral[\"CIUDADTRABAJO\"]==\"FLORIDABLANCA\")]\n",
    "piegiron = consolidadogeneral[(consolidadogeneral[\"CIUDADEMPLEADO\"]==\"Piedecuesta\")&(consolidadogeneral[\"CIUDADTRABAJO\"]==\"GIRON\")]\n",
    "piepie = consolidadogeneral[(consolidadogeneral[\"CIUDADEMPLEADO\"]==\"Piedecuesta\")&(consolidadogeneral[\"CIUDADTRABAJO\"]==\"PIEDECUESTA\")]\n",
    "\n",
    "empleadospieorigen = pd.DataFrame(columns=('Bucaramanga', 'Floridablanca', 'Giron', 'Piedecuesta'))\n",
    "empleadospieorigen.loc[len(empleadospieorigen)]=[len(piebucara),len(pieflori),len(piegiron),len(piepie)] \n",
    "empleadospieorigen = empleadospieorigen.T\n",
    "empleadospieorigen.columns = ['Total']"
   ]
  },
  {
   "cell_type": "code",
   "execution_count": null,
   "metadata": {},
   "outputs": [],
   "source": [
    "os.makedirs('origendestino/tablaempleados')\n",
    "os.mkdir('origendestino/porcentajes')"
   ]
  },
  {
   "cell_type": "code",
   "execution_count": 139,
   "metadata": {},
   "outputs": [],
   "source": [
    "empleadosbucaraorigen.to_excel('origendestino/tablaempleados/bucara.xlsx')\n",
    "empleadosfloriorigen.to_excel('origendestino/tablaempleados/florida.xlsx')\n",
    "empleadosgironorigen.to_excel('origendestino/tablaempleados/giron.xlsx')\n",
    "empleadospieorigen.to_excel('origendestino/tablaempleados/pie.xlsx')"
   ]
  },
  {
   "cell_type": "code",
   "execution_count": null,
   "metadata": {},
   "outputs": [],
   "source": []
  },
  {
   "cell_type": "code",
   "execution_count": 169,
   "metadata": {},
   "outputs": [],
   "source": [
    "bucaraauto = consolidadogeneral[(consolidadogeneral[\"CIUDADEMPLEADO\"]==\"Bucaramanga\")&(consolidadogeneral[\"MEDIOTRANSPORTE\"]==\"AUTOMOVIL\")]\n",
    "bucarabici = consolidadogeneral[(consolidadogeneral[\"CIUDADEMPLEADO\"]==\"Bucaramanga\")&(consolidadogeneral[\"MEDIOTRANSPORTE\"]==\"BICICLETA\")]\n",
    "bucarabus = consolidadogeneral[(consolidadogeneral[\"CIUDADEMPLEADO\"]==\"Bucaramanga\")&(consolidadogeneral[\"MEDIOTRANSPORTE\"]==\"BUS CONVENCIONAL\")]\n",
    "bucaracaminando = consolidadogeneral[(consolidadogeneral[\"CIUDADEMPLEADO\"]==\"Bucaramanga\")&(consolidadogeneral[\"MEDIOTRANSPORTE\"]==\"CAMINANDO\")]\n",
    "bucarametro = consolidadogeneral[(consolidadogeneral[\"CIUDADEMPLEADO\"]==\"Bucaramanga\")&(consolidadogeneral[\"MEDIOTRANSPORTE\"]==\"METROLINEA\")]\n",
    "bucaramoto = consolidadogeneral[(consolidadogeneral[\"CIUDADEMPLEADO\"]==\"Bucaramanga\")&(consolidadogeneral[\"MEDIOTRANSPORTE\"]==\"MOTO\")]\n",
    "bucaraotros = consolidadogeneral[(consolidadogeneral[\"CIUDADEMPLEADO\"]==\"Bucaramanga\")&(consolidadogeneral[\"MEDIOTRANSPORTE\"]==\"OTROS\")]\n",
    "bucaramediosalternativos = consolidadogeneral[(consolidadogeneral[\"CIUDADEMPLEADO\"]==\"Bucaramanga\")&(consolidadogeneral[\"MEDIOTRANSPORTE\"]==\"PATINETA\")]\n",
    "bucarataxi = consolidadogeneral[(consolidadogeneral[\"CIUDADEMPLEADO\"]==\"Bucaramanga\")&(consolidadogeneral[\"MEDIOTRANSPORTE\"]==\"TAXI\")]\n",
    "\n",
    "porcenauto = (len(bucaraauto)/empleadostotales)*100\n",
    "totalauto = str(len(bucaraauto))+\"-\"+str(\"{0:.2f}\".format(porcenauto))+\"%\"\n",
    "porcenbici = (len(bucarabici)/empleadostotales)*100\n",
    "totalbici = str(len(bucarabici))+\"-\"+str(\"{0:.2f}\".format(porcenbici))+\"%\"\n",
    "porcenbus = (len(bucarabus)/empleadostotales)*100\n",
    "totalbus = str(len(bucarabus))+\"-\"+str(\"{0:.2f}\".format(porcenbus))+\"%\"\n",
    "porcencami = (len(bucaracaminando)/empleadostotales)*100\n",
    "totalcami = str(len(bucaracaminando))+\"-\"+str(\"{0:.2f}\".format(porcencami))+\"%\"\n",
    "porcenmetro = (len(bucarametro)/empleadostotales)*100\n",
    "totalmetro = str(len(bucarametro))+\"-\"+str(\"{0:.2f}\".format(porcenmetro))+\"%\"\n",
    "porcenmoto = (len(bucaramoto)/empleadostotales)*100\n",
    "totalmoto = str(len(bucaramoto))+\"-\"+str(\"{0:.2f}\".format(porcenmoto))+\"%\"\n",
    "porcenotros = (len(bucaraotros)/empleadostotales)*100\n",
    "totalotros = str(len(bucaraotros))+\"-\"+str(\"{0:.2f}\".format(porcenotros))+\"%\"\n",
    "porcenalter = (len(bucaramediosalternativos)/empleadostotales)*100\n",
    "totalalter = str(len(bucaramediosalternativos))+\"-\"+str(\"{0:.2f}\".format(porcenalter))+\"%\"\n",
    "porcentaxi = (len(bucarataxi)/empleadostotales)*100\n",
    "totaltaxi = str(len(bucarataxi))+\"-\"+str(\"{0:.2f}\".format(porcentaxi))+\"%\""
   ]
  },
  {
   "cell_type": "code",
   "execution_count": 175,
   "metadata": {},
   "outputs": [],
   "source": [
    "bucaraauto = consolidadogeneral[(consolidadogeneral[\"CIUDADEMPLEADO\"]==\"Bucaramanga\")&(consolidadogeneral[\"CIUDADTRABAJO\"]==\"BUCARAMANGA\")&(consolidadogeneral[\"MEDIOTRANSPORTE\"]==\"AUTOMOVIL\")]\n",
    "bucarabici = consolidadogeneral[(consolidadogeneral[\"CIUDADEMPLEADO\"]==\"Bucaramanga\")&(consolidadogeneral[\"CIUDADTRABAJO\"]==\"BUCARAMANGA\")&(consolidadogeneral[\"MEDIOTRANSPORTE\"]==\"BICICLETA\")]\n",
    "bucarabus = consolidadogeneral[(consolidadogeneral[\"CIUDADEMPLEADO\"]==\"Bucaramanga\")&(consolidadogeneral[\"CIUDADTRABAJO\"]==\"BUCARAMANGA\")&(consolidadogeneral[\"MEDIOTRANSPORTE\"]==\"BUS CONVENCIONAL\")]\n",
    "bucaracaminando = consolidadogeneral[(consolidadogeneral[\"CIUDADEMPLEADO\"]==\"Bucaramanga\")&(consolidadogeneral[\"CIUDADTRABAJO\"]==\"BUCARAMANGA\")&(consolidadogeneral[\"MEDIOTRANSPORTE\"]==\"CAMINANDO\")]\n",
    "bucarametro = consolidadogeneral[(consolidadogeneral[\"CIUDADEMPLEADO\"]==\"Bucaramanga\")&(consolidadogeneral[\"CIUDADTRABAJO\"]==\"BUCARAMANGA\")&(consolidadogeneral[\"MEDIOTRANSPORTE\"]==\"METROLINEA\")]\n",
    "bucaramoto = consolidadogeneral[(consolidadogeneral[\"CIUDADEMPLEADO\"]==\"Bucaramanga\")&(consolidadogeneral[\"CIUDADTRABAJO\"]==\"BUCARAMANGA\")&(consolidadogeneral[\"MEDIOTRANSPORTE\"]==\"MOTO\")]\n",
    "bucaraotros = consolidadogeneral[(consolidadogeneral[\"CIUDADEMPLEADO\"]==\"Bucaramanga\")&(consolidadogeneral[\"CIUDADTRABAJO\"]==\"BUCARAMANGA\")&(consolidadogeneral[\"MEDIOTRANSPORTE\"]==\"OTROS\")]\n",
    "bucaramediosalternativos = consolidadogeneral[(consolidadogeneral[\"CIUDADEMPLEADO\"]==\"Bucaramanga\")&(consolidadogeneral[\"CIUDADTRABAJO\"]==\"BUCARAMANGA\")&(consolidadogeneral[\"MEDIOTRANSPORTE\"]==\"PATINETA\")]\n",
    "bucarataxi = consolidadogeneral[(consolidadogeneral[\"CIUDADEMPLEADO\"]==\"Bucaramanga\")&(consolidadogeneral[\"CIUDADTRABAJO\"]==\"BUCARAMANGA\")&(consolidadogeneral[\"MEDIOTRANSPORTE\"]==\"TAXI\")]\n",
    "\n",
    "porcenauto = (len(bucaraauto)/empleadostotales)*100\n",
    "bucaauto = str(len(bucaraauto))+\"-\"+str(\"{0:.2f}\".format(porcenauto))+\"%\"\n",
    "porcenbici = (len(bucarabici)/empleadostotales)*100\n",
    "bucabici = str(len(bucarabici))+\"-\"+str(\"{0:.2f}\".format(porcenbici))+\"%\"\n",
    "porcenbus = (len(bucarabus)/empleadostotales)*100\n",
    "bucabus = str(len(bucarabus))+\"-\"+str(\"{0:.2f}\".format(porcenbus))+\"%\"\n",
    "porcencami = (len(bucaracaminando)/empleadostotales)*100\n",
    "bucacami = str(len(bucaracaminando))+\"-\"+str(\"{0:.2f}\".format(porcencami))+\"%\"\n",
    "porcenmetro = (len(bucarametro)/empleadostotales)*100\n",
    "bucametro = str(len(bucarametro))+\"-\"+str(\"{0:.2f}\".format(porcenmetro))+\"%\"\n",
    "porcenmoto = (len(bucaramoto)/empleadostotales)*100\n",
    "bucamoto = str(len(bucaramoto))+\"-\"+str(\"{0:.2f}\".format(porcenmoto))+\"%\"\n",
    "porcenotros = (len(bucaraotros)/empleadostotales)*100\n",
    "bucaotros = str(len(bucaraotros))+\"-\"+str(\"{0:.2f}\".format(porcenotros))+\"%\"\n",
    "porcenalter = (len(bucaramediosalternativos)/empleadostotales)*100\n",
    "bucaalter = str(len(bucaramediosalternativos))+\"-\"+str(\"{0:.2f}\".format(porcenalter))+\"%\"\n",
    "porcentaxi = (len(bucarataxi)/empleadostotales)*100\n",
    "bucataxi = str(len(bucarataxi))+\"-\"+str(\"{0:.2f}\".format(porcentaxi))+\"%\"\n"
   ]
  },
  {
   "cell_type": "code",
   "execution_count": 180,
   "metadata": {},
   "outputs": [],
   "source": [
    "bucaraauto = consolidadogeneral[(consolidadogeneral[\"CIUDADEMPLEADO\"]==\"Bucaramanga\")&(consolidadogeneral[\"CIUDADTRABAJO\"]==\"FLORIDABLANCA\")&(consolidadogeneral[\"MEDIOTRANSPORTE\"]==\"AUTOMOVIL\")]\n",
    "bucarabici = consolidadogeneral[(consolidadogeneral[\"CIUDADEMPLEADO\"]==\"Bucaramanga\")&(consolidadogeneral[\"CIUDADTRABAJO\"]==\"FLORIDABLANCA\")&(consolidadogeneral[\"MEDIOTRANSPORTE\"]==\"BICICLETA\")]\n",
    "bucarabus = consolidadogeneral[(consolidadogeneral[\"CIUDADEMPLEADO\"]==\"Bucaramanga\")&(consolidadogeneral[\"CIUDADTRABAJO\"]==\"FLORIDABLANCA\")&(consolidadogeneral[\"MEDIOTRANSPORTE\"]==\"BUS CONVENCIONAL\")]\n",
    "bucaracaminando = consolidadogeneral[(consolidadogeneral[\"CIUDADEMPLEADO\"]==\"Bucaramanga\")&(consolidadogeneral[\"CIUDADTRABAJO\"]==\"FLORIDABLANCA\")&(consolidadogeneral[\"MEDIOTRANSPORTE\"]==\"CAMINANDO\")]\n",
    "bucarametro = consolidadogeneral[(consolidadogeneral[\"CIUDADEMPLEADO\"]==\"Bucaramanga\")&(consolidadogeneral[\"CIUDADTRABAJO\"]==\"FLORIDABLANCA\")&(consolidadogeneral[\"MEDIOTRANSPORTE\"]==\"METROLINEA\")]\n",
    "bucaramoto = consolidadogeneral[(consolidadogeneral[\"CIUDADEMPLEADO\"]==\"Bucaramanga\")&(consolidadogeneral[\"CIUDADTRABAJO\"]==\"FLORIDABLANCA\")&(consolidadogeneral[\"MEDIOTRANSPORTE\"]==\"MOTO\")]\n",
    "bucaraotros = consolidadogeneral[(consolidadogeneral[\"CIUDADEMPLEADO\"]==\"Bucaramanga\")&(consolidadogeneral[\"CIUDADTRABAJO\"]==\"FLORIDABLANCA\")&(consolidadogeneral[\"MEDIOTRANSPORTE\"]==\"OTROS\")]\n",
    "bucaramediosalternativos = consolidadogeneral[(consolidadogeneral[\"CIUDADEMPLEADO\"]==\"Bucaramanga\")&(consolidadogeneral[\"CIUDADTRABAJO\"]==\"FLORIDABLANCA\")&(consolidadogeneral[\"MEDIOTRANSPORTE\"]==\"PATINETA\")]\n",
    "bucarataxi = consolidadogeneral[(consolidadogeneral[\"CIUDADEMPLEADO\"]==\"Bucaramanga\")&(consolidadogeneral[\"CIUDADTRABAJO\"]==\"FLORIDABLANCA\")&(consolidadogeneral[\"MEDIOTRANSPORTE\"]==\"TAXI\")]\n",
    "\n",
    "porcenauto = (len(bucaraauto)/empleadostotales)*100\n",
    "floriauto = str(len(bucaraauto))+\"-\"+str(\"{0:.2f}\".format(porcenauto))+\"%\"\n",
    "porcenbici = (len(bucarabici)/empleadostotales)*100\n",
    "floribici = str(len(bucarabici))+\"-\"+str(\"{0:.2f}\".format(porcenbici))+\"%\"\n",
    "porcenbus = (len(bucarabus)/empleadostotales)*100\n",
    "floribus = str(len(bucarabus))+\"-\"+str(\"{0:.2f}\".format(porcenbus))+\"%\"\n",
    "porcencami = (len(bucaracaminando)/empleadostotales)*100\n",
    "floricami = str(len(bucaracaminando))+\"-\"+str(\"{0:.2f}\".format(porcencami))+\"%\"\n",
    "porcenmetro = (len(bucarametro)/empleadostotales)*100\n",
    "florimetro = str(len(bucarametro))+\"-\"+str(\"{0:.2f}\".format(porcenmetro))+\"%\"\n",
    "porcenmoto = (len(bucaramoto)/empleadostotales)*100\n",
    "florimoto = str(len(bucaramoto))+\"-\"+str(\"{0:.2f}\".format(porcenmoto))+\"%\"\n",
    "porcenotros = (len(bucaraotros)/empleadostotales)*100\n",
    "floriotros = str(len(bucaraotros))+\"-\"+str(\"{0:.2f}\".format(porcenotros))+\"%\"\n",
    "porcenalter = (len(bucaramediosalternativos)/empleadostotales)*100\n",
    "florialter = str(len(bucaramediosalternativos))+\"-\"+str(\"{0:.2f}\".format(porcenalter))+\"%\"\n",
    "porcentaxi = (len(bucarataxi)/empleadostotales)*100\n",
    "floritaxi = str(len(bucarataxi))+\"-\"+str(\"{0:.2f}\".format(porcentaxi))+\"%\""
   ]
  },
  {
   "cell_type": "code",
   "execution_count": 182,
   "metadata": {},
   "outputs": [],
   "source": [
    "bucaraauto = consolidadogeneral[(consolidadogeneral[\"CIUDADEMPLEADO\"]==\"Bucaramanga\")&(consolidadogeneral[\"CIUDADTRABAJO\"]==\"GIRON\")&(consolidadogeneral[\"MEDIOTRANSPORTE\"]==\"AUTOMOVIL\")]\n",
    "bucarabici = consolidadogeneral[(consolidadogeneral[\"CIUDADEMPLEADO\"]==\"Bucaramanga\")&(consolidadogeneral[\"CIUDADTRABAJO\"]==\"GIRON\")&(consolidadogeneral[\"MEDIOTRANSPORTE\"]==\"BICICLETA\")]\n",
    "bucarabus = consolidadogeneral[(consolidadogeneral[\"CIUDADEMPLEADO\"]==\"Bucaramanga\")&(consolidadogeneral[\"CIUDADTRABAJO\"]==\"GIRON\")&(consolidadogeneral[\"MEDIOTRANSPORTE\"]==\"BUS CONVENCIONAL\")]\n",
    "bucaracaminando = consolidadogeneral[(consolidadogeneral[\"CIUDADEMPLEADO\"]==\"Bucaramanga\")&(consolidadogeneral[\"CIUDADTRABAJO\"]==\"GIRON\")&(consolidadogeneral[\"MEDIOTRANSPORTE\"]==\"CAMINANDO\")]\n",
    "bucarametro = consolidadogeneral[(consolidadogeneral[\"CIUDADEMPLEADO\"]==\"Bucaramanga\")&(consolidadogeneral[\"CIUDADTRABAJO\"]==\"GIRON\")&(consolidadogeneral[\"MEDIOTRANSPORTE\"]==\"METROLINEA\")]\n",
    "bucaramoto = consolidadogeneral[(consolidadogeneral[\"CIUDADEMPLEADO\"]==\"Bucaramanga\")&(consolidadogeneral[\"CIUDADTRABAJO\"]==\"GIRON\")&(consolidadogeneral[\"MEDIOTRANSPORTE\"]==\"MOTO\")]\n",
    "bucaraotros = consolidadogeneral[(consolidadogeneral[\"CIUDADEMPLEADO\"]==\"Bucaramanga\")&(consolidadogeneral[\"CIUDADTRABAJO\"]==\"GIRON\")&(consolidadogeneral[\"MEDIOTRANSPORTE\"]==\"OTROS\")]\n",
    "bucaramediosalternativos = consolidadogeneral[(consolidadogeneral[\"CIUDADEMPLEADO\"]==\"Bucaramanga\")&(consolidadogeneral[\"CIUDADTRABAJO\"]==\"GIRON\")&(consolidadogeneral[\"MEDIOTRANSPORTE\"]==\"PATINETA\")]\n",
    "bucarataxi = consolidadogeneral[(consolidadogeneral[\"CIUDADEMPLEADO\"]==\"Bucaramanga\")&(consolidadogeneral[\"CIUDADTRABAJO\"]==\"GIRON\")&(consolidadogeneral[\"MEDIOTRANSPORTE\"]==\"TAXI\")]\n",
    "\n",
    "porcenauto = (len(bucaraauto)/empleadostotales)*100\n",
    "giroauto = str(len(bucaraauto))+\"-\"+str(\"{0:.2f}\".format(porcenauto))+\"%\"\n",
    "porcenbici = (len(bucarabici)/empleadostotales)*100\n",
    "girobici = str(len(bucarabici))+\"-\"+str(\"{0:.2f}\".format(porcenbici))+\"%\"\n",
    "porcenbus = (len(bucarabus)/empleadostotales)*100\n",
    "girobus = str(len(bucarabus))+\"-\"+str(\"{0:.2f}\".format(porcenbus))+\"%\"\n",
    "porcencami = (len(bucaracaminando)/empleadostotales)*100\n",
    "girocami = str(len(bucaracaminando))+\"-\"+str(\"{0:.2f}\".format(porcencami))+\"%\"\n",
    "porcenmetro = (len(bucarametro)/empleadostotales)*100\n",
    "girometro = str(len(bucarametro))+\"-\"+str(\"{0:.2f}\".format(porcenmetro))+\"%\"\n",
    "porcenmoto = (len(bucaramoto)/empleadostotales)*100\n",
    "giromoto = str(len(bucaramoto))+\"-\"+str(\"{0:.2f}\".format(porcenmoto))+\"%\"\n",
    "porcenotros = (len(bucaraotros)/empleadostotales)*100\n",
    "girootros = str(len(bucaraotros))+\"-\"+str(\"{0:.2f}\".format(porcenotros))+\"%\"\n",
    "porcenalter = (len(bucaramediosalternativos)/empleadostotales)*100\n",
    "giroalter = str(len(bucaramediosalternativos))+\"-\"+str(\"{0:.2f}\".format(porcenalter))+\"%\"\n",
    "porcentaxi = (len(bucarataxi)/empleadostotales)*100\n",
    "girotaxi = str(len(bucarataxi))+\"-\"+str(\"{0:.2f}\".format(porcentaxi))+\"%\""
   ]
  },
  {
   "cell_type": "code",
   "execution_count": 184,
   "metadata": {},
   "outputs": [],
   "source": [
    "bucaraauto = consolidadogeneral[(consolidadogeneral[\"CIUDADEMPLEADO\"]==\"Bucaramanga\")&(consolidadogeneral[\"CIUDADTRABAJO\"]==\"PIEDECUESTA\")&(consolidadogeneral[\"MEDIOTRANSPORTE\"]==\"AUTOMOVIL\")]\n",
    "bucarabici = consolidadogeneral[(consolidadogeneral[\"CIUDADEMPLEADO\"]==\"Bucaramanga\")&(consolidadogeneral[\"CIUDADTRABAJO\"]==\"PIEDECUESTA\")&(consolidadogeneral[\"MEDIOTRANSPORTE\"]==\"BICICLETA\")]\n",
    "bucarabus = consolidadogeneral[(consolidadogeneral[\"CIUDADEMPLEADO\"]==\"Bucaramanga\")&(consolidadogeneral[\"CIUDADTRABAJO\"]==\"PIEDECUESTA\")&(consolidadogeneral[\"MEDIOTRANSPORTE\"]==\"BUS CONVENCIONAL\")]\n",
    "bucaracaminando = consolidadogeneral[(consolidadogeneral[\"CIUDADEMPLEADO\"]==\"Bucaramanga\")&(consolidadogeneral[\"CIUDADTRABAJO\"]==\"PIEDECUESTA\")&(consolidadogeneral[\"MEDIOTRANSPORTE\"]==\"CAMINANDO\")]\n",
    "bucarametro = consolidadogeneral[(consolidadogeneral[\"CIUDADEMPLEADO\"]==\"Bucaramanga\")&(consolidadogeneral[\"CIUDADTRABAJO\"]==\"PIEDECUESTA\")&(consolidadogeneral[\"MEDIOTRANSPORTE\"]==\"METROLINEA\")]\n",
    "bucaramoto = consolidadogeneral[(consolidadogeneral[\"CIUDADEMPLEADO\"]==\"Bucaramanga\")&(consolidadogeneral[\"CIUDADTRABAJO\"]==\"PIEDECUESTA\")&(consolidadogeneral[\"MEDIOTRANSPORTE\"]==\"MOTO\")]\n",
    "bucaraotros = consolidadogeneral[(consolidadogeneral[\"CIUDADEMPLEADO\"]==\"Bucaramanga\")&(consolidadogeneral[\"CIUDADTRABAJO\"]==\"PIEDECUESTA\")&(consolidadogeneral[\"MEDIOTRANSPORTE\"]==\"OTROS\")]\n",
    "bucaramediosalternativos = consolidadogeneral[(consolidadogeneral[\"CIUDADEMPLEADO\"]==\"Bucaramanga\")&(consolidadogeneral[\"CIUDADTRABAJO\"]==\"PIEDECUESTA\")&(consolidadogeneral[\"MEDIOTRANSPORTE\"]==\"PATINETA\")]\n",
    "bucarataxi = consolidadogeneral[(consolidadogeneral[\"CIUDADEMPLEADO\"]==\"Bucaramanga\")&(consolidadogeneral[\"CIUDADTRABAJO\"]==\"PIEDECUESTA\")&(consolidadogeneral[\"MEDIOTRANSPORTE\"]==\"TAXI\")]\n",
    "\n",
    "porcenauto = (len(bucaraauto)/empleadostotales)*100\n",
    "pieauto = str(len(bucaraauto))+\"-\"+str(\"{0:.2f}\".format(porcenauto))+\"%\"\n",
    "porcenbici = (len(bucarabici)/empleadostotales)*100\n",
    "piebici = str(len(bucarabici))+\"-\"+str(\"{0:.2f}\".format(porcenbici))+\"%\"\n",
    "porcenbus = (len(bucarabus)/empleadostotales)*100\n",
    "piebus = str(len(bucarabus))+\"-\"+str(\"{0:.2f}\".format(porcenbus))+\"%\"\n",
    "porcencami = (len(bucaracaminando)/empleadostotales)*100\n",
    "piecami = str(len(bucaracaminando))+\"-\"+str(\"{0:.2f}\".format(porcencami))+\"%\"\n",
    "porcenmetro = (len(bucarametro)/empleadostotales)*100\n",
    "piemetro = str(len(bucarametro))+\"-\"+str(\"{0:.2f}\".format(porcenmetro))+\"%\"\n",
    "porcenmoto = (len(bucaramoto)/empleadostotales)*100\n",
    "piemoto = str(len(bucaramoto))+\"-\"+str(\"{0:.2f}\".format(porcenmoto))+\"%\"\n",
    "porcenotros = (len(bucaraotros)/empleadostotales)*100\n",
    "pieotros = str(len(bucaraotros))+\"-\"+str(\"{0:.2f}\".format(porcenotros))+\"%\"\n",
    "porcenalter = (len(bucaramediosalternativos)/empleadostotales)*100\n",
    "piealter = str(len(bucaramediosalternativos))+\"-\"+str(\"{0:.2f}\".format(porcenalter))+\"%\"\n",
    "porcentaxi = (len(bucarataxi)/empleadostotales)*100\n",
    "pietaxi = str(len(bucarataxi))+\"-\"+str(\"{0:.2f}\".format(porcentaxi))+\"%\""
   ]
  },
  {
   "cell_type": "code",
   "execution_count": 248,
   "metadata": {},
   "outputs": [],
   "source": [
    "estadisticabucara = pd.DataFrame(columns=('AUTOMOVIL','BICICLETA', 'BUS CONVENCIONAL', 'CAMINANDO', 'METROLINEA','MOTO','OTROS*','MEDIOS ALTERNATIVOS','TAXI'))\n",
    "estadisticabucara.loc[len(estadisticabucara)]=[totalauto,totalbici,totalbus,totalcami,totalmetro,totalmoto,totalotros,totalalter,totaltaxi]\n",
    "estadisticabucara.loc[len(estadisticabucara)]=[bucaauto,bucabici,bucabus,bucacami,bucametro,bucamoto,bucaotros,bucaalter,bucataxi]\n",
    "estadisticabucara.loc[len(estadisticabucara)]=[floriauto,floribici,floribus,floricami,florimetro,florimoto,floriotros,florialter,floritaxi]\n",
    "estadisticabucara.loc[len(estadisticabucara)]=[giroauto,girobici,girobus,girocami,girometro,giromoto,girootros,giroalter,girotaxi]\n",
    "estadisticabucara.loc[len(estadisticabucara)]=[pieauto,piebici,piebus,piecami,piemetro,piemoto,pieotros,piealter,pietaxi]\n",
    "estadisticabucara = estadisticabucara.T\n",
    "estadisticabucara.columns = ['Total','Bucaramanga', 'Floridablanca', 'Girón', 'Piedecuesta']\n"
   ]
  },
  {
   "cell_type": "code",
   "execution_count": 188,
   "metadata": {},
   "outputs": [],
   "source": [
    "floriauto = consolidadogeneral[(consolidadogeneral[\"CIUDADEMPLEADO\"]==\"Floridablanca\")&(consolidadogeneral[\"MEDIOTRANSPORTE\"]==\"AUTOMOVIL\")]\n",
    "floribici = consolidadogeneral[(consolidadogeneral[\"CIUDADEMPLEADO\"]==\"Floridablanca\")&(consolidadogeneral[\"MEDIOTRANSPORTE\"]==\"BICICLETA\")]\n",
    "floribus = consolidadogeneral[(consolidadogeneral[\"CIUDADEMPLEADO\"]==\"Floridablanca\")&(consolidadogeneral[\"MEDIOTRANSPORTE\"]==\"BUS CONVENCIONAL\")]\n",
    "floricaminando = consolidadogeneral[(consolidadogeneral[\"CIUDADEMPLEADO\"]==\"Floridablanca\")&(consolidadogeneral[\"MEDIOTRANSPORTE\"]==\"CAMINANDO\")]\n",
    "florimetro = consolidadogeneral[(consolidadogeneral[\"CIUDADEMPLEADO\"]==\"Floridablanca\")&(consolidadogeneral[\"MEDIOTRANSPORTE\"]==\"METROLINEA\")]\n",
    "florimoto = consolidadogeneral[(consolidadogeneral[\"CIUDADEMPLEADO\"]==\"Floridablanca\")&(consolidadogeneral[\"MEDIOTRANSPORTE\"]==\"MOTO\")]\n",
    "floriotros = consolidadogeneral[(consolidadogeneral[\"CIUDADEMPLEADO\"]==\"Floridablanca\")&(consolidadogeneral[\"MEDIOTRANSPORTE\"]==\"OTROS\")]\n",
    "florimediosalternativos = consolidadogeneral[(consolidadogeneral[\"CIUDADEMPLEADO\"]==\"Floridablanca\")&(consolidadogeneral[\"MEDIOTRANSPORTE\"]==\"PATINETA\")]\n",
    "floritaxi = consolidadogeneral[(consolidadogeneral[\"CIUDADEMPLEADO\"]==\"Floridablanca\")&(consolidadogeneral[\"MEDIOTRANSPORTE\"]==\"TAXI\")]\n",
    "\n",
    "porcenauto = (len(floriauto)/empleadostotales)*100\n",
    "totalauto = str(len(floriauto))+\"-\"+str(\"{0:.2f}\".format(porcenauto))+\"%\"\n",
    "porcenbici = (len(floribici)/empleadostotales)*100\n",
    "totalbici = str(len(floribici))+\"-\"+str(\"{0:.2f}\".format(porcenbici))+\"%\"\n",
    "porcenbus = (len(floribus)/empleadostotales)*100\n",
    "totalbus = str(len(floribus))+\"-\"+str(\"{0:.2f}\".format(porcenbus))+\"%\"\n",
    "porcencami = (len(floricaminando)/empleadostotales)*100\n",
    "totalcami = str(len(floricaminando))+\"-\"+str(\"{0:.2f}\".format(porcencami))+\"%\"\n",
    "porcenmetro = (len(florimetro)/empleadostotales)*100\n",
    "totalmetro = str(len(florimetro))+\"-\"+str(\"{0:.2f}\".format(porcenmetro))+\"%\"\n",
    "porcenmoto = (len(florimoto)/empleadostotales)*100\n",
    "totalmoto = str(len(florimoto))+\"-\"+str(\"{0:.2f}\".format(porcenmoto))+\"%\"\n",
    "porcenotros = (len(floriotros)/empleadostotales)*100\n",
    "totalotros = str(len(floriotros))+\"-\"+str(\"{0:.2f}\".format(porcenotros))+\"%\"\n",
    "porcenalter = (len(florimediosalternativos)/empleadostotales)*100\n",
    "totalalter = str(len(florimediosalternativos))+\"-\"+str(\"{0:.2f}\".format(porcenalter))+\"%\"\n",
    "porcentaxi = (len(floritaxi)/empleadostotales)*100\n",
    "totaltaxi = str(len(floritaxi))+\"-\"+str(\"{0:.2f}\".format(porcentaxi))+\"%\""
   ]
  },
  {
   "cell_type": "code",
   "execution_count": 194,
   "metadata": {},
   "outputs": [],
   "source": [
    "floriauto = consolidadogeneral[(consolidadogeneral[\"CIUDADEMPLEADO\"]==\"Floridablanca\")&(consolidadogeneral[\"CIUDADTRABAJO\"]==\"BUCARAMANGA\")&(consolidadogeneral[\"MEDIOTRANSPORTE\"]==\"AUTOMOVIL\")]\n",
    "floribici = consolidadogeneral[(consolidadogeneral[\"CIUDADEMPLEADO\"]==\"Floridablanca\")&(consolidadogeneral[\"CIUDADTRABAJO\"]==\"BUCARAMANGA\")&(consolidadogeneral[\"MEDIOTRANSPORTE\"]==\"BICICLETA\")]\n",
    "floribus = consolidadogeneral[(consolidadogeneral[\"CIUDADEMPLEADO\"]==\"Floridablanca\")&(consolidadogeneral[\"CIUDADTRABAJO\"]==\"BUCARAMANGA\")&(consolidadogeneral[\"MEDIOTRANSPORTE\"]==\"BUS CONVENCIONAL\")]\n",
    "floricaminando = consolidadogeneral[(consolidadogeneral[\"CIUDADEMPLEADO\"]==\"Floridablanca\")&(consolidadogeneral[\"CIUDADTRABAJO\"]==\"BUCARAMANGA\")&(consolidadogeneral[\"MEDIOTRANSPORTE\"]==\"CAMINANDO\")]\n",
    "florimetro = consolidadogeneral[(consolidadogeneral[\"CIUDADEMPLEADO\"]==\"Floridablanca\")&(consolidadogeneral[\"CIUDADTRABAJO\"]==\"BUCARAMANGA\")&(consolidadogeneral[\"MEDIOTRANSPORTE\"]==\"METROLINEA\")]\n",
    "florimoto = consolidadogeneral[(consolidadogeneral[\"CIUDADEMPLEADO\"]==\"Floridablanca\")&(consolidadogeneral[\"CIUDADTRABAJO\"]==\"BUCARAMANGA\")&(consolidadogeneral[\"MEDIOTRANSPORTE\"]==\"MOTO\")]\n",
    "floriotros = consolidadogeneral[(consolidadogeneral[\"CIUDADEMPLEADO\"]==\"Floridablanca\")&(consolidadogeneral[\"CIUDADTRABAJO\"]==\"BUCARAMANGA\")&(consolidadogeneral[\"MEDIOTRANSPORTE\"]==\"OTROS\")]\n",
    "florimediosalternativos = consolidadogeneral[(consolidadogeneral[\"CIUDADEMPLEADO\"]==\"Floridablanca\")&(consolidadogeneral[\"CIUDADTRABAJO\"]==\"BUCARAMANGA\")&(consolidadogeneral[\"MEDIOTRANSPORTE\"]==\"PATINETA\")]\n",
    "floritaxi = consolidadogeneral[(consolidadogeneral[\"CIUDADEMPLEADO\"]==\"Floridablanca\")&(consolidadogeneral[\"CIUDADTRABAJO\"]==\"BUCARAMANGA\")&(consolidadogeneral[\"MEDIOTRANSPORTE\"]==\"TAXI\")]\n",
    "\n",
    "porcenauto = (len(floriauto)/empleadostotales)*100\n",
    "floriauto = str(len(floriauto))+\"-\"+str(\"{0:.2f}\".format(porcenauto))+\"%\"\n",
    "porcenbici = (len(floribici)/empleadostotales)*100\n",
    "floribici = str(len(floribici))+\"-\"+str(\"{0:.2f}\".format(porcenbici))+\"%\"\n",
    "porcenbus = (len(floribus)/empleadostotales)*100\n",
    "floribus = str(len(floribus))+\"-\"+str(\"{0:.2f}\".format(porcenbus))+\"%\"\n",
    "porcencami = (len(floricaminando)/empleadostotales)*100\n",
    "floricami = str(len(floricaminando))+\"-\"+str(\"{0:.2f}\".format(porcencami))+\"%\"\n",
    "porcenmetro = (len(florimetro)/empleadostotales)*100\n",
    "florimetro = str(len(florimetro))+\"-\"+str(\"{0:.2f}\".format(porcenmetro))+\"%\"\n",
    "porcenmoto = (len(florimoto)/empleadostotales)*100\n",
    "florimoto = str(len(florimoto))+\"-\"+str(\"{0:.2f}\".format(porcenmoto))+\"%\"\n",
    "porcenotros = (len(floriotros)/empleadostotales)*100\n",
    "floriotros = str(len(floriotros))+\"-\"+str(\"{0:.2f}\".format(porcenotros))+\"%\"\n",
    "porcenalter = (len(florimediosalternativos)/empleadostotales)*100\n",
    "florialter = str(len(florimediosalternativos))+\"-\"+str(\"{0:.2f}\".format(porcenalter))+\"%\"\n",
    "porcentaxi = (len(floritaxi)/empleadostotales)*100\n",
    "floritaxi = str(len(floritaxi))+\"-\"+str(\"{0:.2f}\".format(porcentaxi))+\"%\"\n"
   ]
  },
  {
   "cell_type": "code",
   "execution_count": 207,
   "metadata": {},
   "outputs": [],
   "source": [
    "floauto = consolidadogeneral[(consolidadogeneral[\"CIUDADEMPLEADO\"]==\"Floridablanca\")&(consolidadogeneral[\"CIUDADTRABAJO\"]==\"FLORIDABLANCA\")&(consolidadogeneral[\"MEDIOTRANSPORTE\"]==\"AUTOMOVIL\")]\n",
    "flobici = consolidadogeneral[(consolidadogeneral[\"CIUDADEMPLEADO\"]==\"Floridablanca\")&(consolidadogeneral[\"CIUDADTRABAJO\"]==\"FLORIDABLANCA\")&(consolidadogeneral[\"MEDIOTRANSPORTE\"]==\"BICICLETA\")]\n",
    "flobus = consolidadogeneral[(consolidadogeneral[\"CIUDADEMPLEADO\"]==\"Floridablanca\")&(consolidadogeneral[\"CIUDADTRABAJO\"]==\"FLORIDABLANCA\")&(consolidadogeneral[\"MEDIOTRANSPORTE\"]==\"BUS CONVENCIONAL\")]\n",
    "flocaminando = consolidadogeneral[(consolidadogeneral[\"CIUDADEMPLEADO\"]==\"Floridablanca\")&(consolidadogeneral[\"CIUDADTRABAJO\"]==\"FLORIDABLANCA\")&(consolidadogeneral[\"MEDIOTRANSPORTE\"]==\"CAMINANDO\")]\n",
    "flometro = consolidadogeneral[(consolidadogeneral[\"CIUDADEMPLEADO\"]==\"Floridablanca\")&(consolidadogeneral[\"CIUDADTRABAJO\"]==\"FLORIDABLANCA\")&(consolidadogeneral[\"MEDIOTRANSPORTE\"]==\"METROLINEA\")]\n",
    "flomoto = consolidadogeneral[(consolidadogeneral[\"CIUDADEMPLEADO\"]==\"Floridablanca\")&(consolidadogeneral[\"CIUDADTRABAJO\"]==\"FLORIDABLANCA\")&(consolidadogeneral[\"MEDIOTRANSPORTE\"]==\"MOTO\")]\n",
    "flootros = consolidadogeneral[(consolidadogeneral[\"CIUDADEMPLEADO\"]==\"Floridablanca\")&(consolidadogeneral[\"CIUDADTRABAJO\"]==\"FLORIDABLANCA\")&(consolidadogeneral[\"MEDIOTRANSPORTE\"]==\"OTROS\")]\n",
    "flomediosalternativos = consolidadogeneral[(consolidadogeneral[\"CIUDADEMPLEADO\"]==\"Floridablanca\")&(consolidadogeneral[\"CIUDADTRABAJO\"]==\"FLORIDABLANCA\")&(consolidadogeneral[\"MEDIOTRANSPORTE\"]==\"PATINETA\")]\n",
    "flotaxi = consolidadogeneral[(consolidadogeneral[\"CIUDADEMPLEADO\"]==\"Floridablanca\")&(consolidadogeneral[\"CIUDADTRABAJO\"]==\"FLORIDABLANCA\")&(consolidadogeneral[\"MEDIOTRANSPORTE\"]==\"TAXI\")]\n",
    "\n",
    "porcenauto = (len(floauto)/empleadostotales)*100\n",
    "floauto = str(len(floauto))+\"-\"+str(\"{0:.2f}\".format(porcenauto))+\"%\"\n",
    "porcenbici = (len(flobici)/empleadostotales)*100\n",
    "flobici = str(len(flobici))+\"-\"+str(\"{0:.2f}\".format(porcenbici))+\"%\"\n",
    "porcenbus = (len(flobus)/empleadostotales)*100\n",
    "flobus = str(len(flobus))+\"-\"+str(\"{0:.2f}\".format(porcenbus))+\"%\"\n",
    "porcencami = (len(flocaminando)/empleadostotales)*100\n",
    "flocami = str(len(flocaminando))+\"-\"+str(\"{0:.2f}\".format(porcencami))+\"%\"\n",
    "porcenmetro = (len(flometro)/empleadostotales)*100\n",
    "flometro = str(len(flometro))+\"-\"+str(\"{0:.2f}\".format(porcenmetro))+\"%\"\n",
    "porcenmoto = (len(flomoto)/empleadostotales)*100\n",
    "flomoto = str(len(flomoto))+\"-\"+str(\"{0:.2f}\".format(porcenmoto))+\"%\"\n",
    "porcenotros = (len(flootros)/empleadostotales)*100\n",
    "flootros = str(len(flootros))+\"-\"+str(\"{0:.2f}\".format(porcenotros))+\"%\"\n",
    "porcenalter = (len(flomediosalternativos)/empleadostotales)*100\n",
    "floalter = str(len(flomediosalternativos))+\"-\"+str(\"{0:.2f}\".format(porcenalter))+\"%\"\n",
    "porcentaxi = (len(flotaxi)/empleadostotales)*100\n",
    "flotaxi = str(len(flotaxi))+\"-\"+str(\"{0:.2f}\".format(porcentaxi))+\"%\""
   ]
  },
  {
   "cell_type": "code",
   "execution_count": 210,
   "metadata": {},
   "outputs": [],
   "source": [
    "flogirauto = consolidadogeneral[(consolidadogeneral[\"CIUDADEMPLEADO\"]==\"Floridablanca\")&(consolidadogeneral[\"CIUDADTRABAJO\"]==\"GIRON\")&(consolidadogeneral[\"MEDIOTRANSPORTE\"]==\"AUTOMOVIL\")]\n",
    "flogirbici = consolidadogeneral[(consolidadogeneral[\"CIUDADEMPLEADO\"]==\"Floridablanca\")&(consolidadogeneral[\"CIUDADTRABAJO\"]==\"GIRON\")&(consolidadogeneral[\"MEDIOTRANSPORTE\"]==\"BICICLETA\")]\n",
    "flogirbus = consolidadogeneral[(consolidadogeneral[\"CIUDADEMPLEADO\"]==\"Floridablanca\")&(consolidadogeneral[\"CIUDADTRABAJO\"]==\"GIRON\")&(consolidadogeneral[\"MEDIOTRANSPORTE\"]==\"BUS CONVENCIONAL\")]\n",
    "flogircaminando = consolidadogeneral[(consolidadogeneral[\"CIUDADEMPLEADO\"]==\"Floridablanca\")&(consolidadogeneral[\"CIUDADTRABAJO\"]==\"GIRON\")&(consolidadogeneral[\"MEDIOTRANSPORTE\"]==\"CAMINANDO\")]\n",
    "flogirmetro = consolidadogeneral[(consolidadogeneral[\"CIUDADEMPLEADO\"]==\"Floridablanca\")&(consolidadogeneral[\"CIUDADTRABAJO\"]==\"GIRON\")&(consolidadogeneral[\"MEDIOTRANSPORTE\"]==\"METROLINEA\")]\n",
    "flogirmoto = consolidadogeneral[(consolidadogeneral[\"CIUDADEMPLEADO\"]==\"Floridablanca\")&(consolidadogeneral[\"CIUDADTRABAJO\"]==\"GIRON\")&(consolidadogeneral[\"MEDIOTRANSPORTE\"]==\"MOTO\")]\n",
    "flogirotros = consolidadogeneral[(consolidadogeneral[\"CIUDADEMPLEADO\"]==\"Floridablanca\")&(consolidadogeneral[\"CIUDADTRABAJO\"]==\"GIRON\")&(consolidadogeneral[\"MEDIOTRANSPORTE\"]==\"OTROS\")]\n",
    "flogirmediosalternativos = consolidadogeneral[(consolidadogeneral[\"CIUDADEMPLEADO\"]==\"Floridablanca\")&(consolidadogeneral[\"CIUDADTRABAJO\"]==\"GIRON\")&(consolidadogeneral[\"MEDIOTRANSPORTE\"]==\"PATINETA\")]\n",
    "flogirtaxi = consolidadogeneral[(consolidadogeneral[\"CIUDADEMPLEADO\"]==\"Floridablanca\")&(consolidadogeneral[\"CIUDADTRABAJO\"]==\"GIRON\")&(consolidadogeneral[\"MEDIOTRANSPORTE\"]==\"TAXI\")]\n",
    "\n",
    "porcenauto = (len(flogirauto)/empleadostotales)*100\n",
    "flogirauto = str(len(flogirauto))+\"-\"+str(\"{0:.2f}\".format(porcenauto))+\"%\"\n",
    "porcenbici = (len(flogirbici)/empleadostotales)*100\n",
    "flogirbici = str(len(flogirbici))+\"-\"+str(\"{0:.2f}\".format(porcenbici))+\"%\"\n",
    "porcenbus = (len(flogirbus)/empleadostotales)*100\n",
    "flogirbus = str(len(flogirbus))+\"-\"+str(\"{0:.2f}\".format(porcenbus))+\"%\"\n",
    "porcencami = (len(flogircaminando)/empleadostotales)*100\n",
    "flogircami = str(len(flogircaminando))+\"-\"+str(\"{0:.2f}\".format(porcencami))+\"%\"\n",
    "porcenmetro = (len(flogirmetro)/empleadostotales)*100\n",
    "flogirmetro = str(len(flogirmetro))+\"-\"+str(\"{0:.2f}\".format(porcenmetro))+\"%\"\n",
    "porcenmoto = (len(flogirmoto)/empleadostotales)*100\n",
    "flogirmoto = str(len(flogirmoto))+\"-\"+str(\"{0:.2f}\".format(porcenmoto))+\"%\"\n",
    "porcenotros = (len(flogirotros)/empleadostotales)*100\n",
    "flogirotros = str(len(flogirotros))+\"-\"+str(\"{0:.2f}\".format(porcenotros))+\"%\"\n",
    "porcenalter = (len(flogirmediosalternativos)/empleadostotales)*100\n",
    "flogiralter = str(len(flogirmediosalternativos))+\"-\"+str(\"{0:.2f}\".format(porcenalter))+\"%\"\n",
    "porcentaxi = (len(flogirtaxi)/empleadostotales)*100\n",
    "flogirtaxi = str(len(flogirtaxi))+\"-\"+str(\"{0:.2f}\".format(porcentaxi))+\"%\""
   ]
  },
  {
   "cell_type": "code",
   "execution_count": 213,
   "metadata": {},
   "outputs": [],
   "source": [
    "flopieauto = consolidadogeneral[(consolidadogeneral[\"CIUDADEMPLEADO\"]==\"Floridablanca\")&(consolidadogeneral[\"CIUDADTRABAJO\"]==\"PIEDECUESTA\")&(consolidadogeneral[\"MEDIOTRANSPORTE\"]==\"AUTOMOVIL\")]\n",
    "flopiebici = consolidadogeneral[(consolidadogeneral[\"CIUDADEMPLEADO\"]==\"Floridablanca\")&(consolidadogeneral[\"CIUDADTRABAJO\"]==\"PIEDECUESTA\")&(consolidadogeneral[\"MEDIOTRANSPORTE\"]==\"BICICLETA\")]\n",
    "flopiebus = consolidadogeneral[(consolidadogeneral[\"CIUDADEMPLEADO\"]==\"Floridablanca\")&(consolidadogeneral[\"CIUDADTRABAJO\"]==\"PIEDECUESTA\")&(consolidadogeneral[\"MEDIOTRANSPORTE\"]==\"BUS CONVENCIONAL\")]\n",
    "flopiecaminando = consolidadogeneral[(consolidadogeneral[\"CIUDADEMPLEADO\"]==\"Floridablanca\")&(consolidadogeneral[\"CIUDADTRABAJO\"]==\"PIEDECUESTA\")&(consolidadogeneral[\"MEDIOTRANSPORTE\"]==\"CAMINANDO\")]\n",
    "flopiemetro = consolidadogeneral[(consolidadogeneral[\"CIUDADEMPLEADO\"]==\"Floridablanca\")&(consolidadogeneral[\"CIUDADTRABAJO\"]==\"PIEDECUESTA\")&(consolidadogeneral[\"MEDIOTRANSPORTE\"]==\"METROLINEA\")]\n",
    "flopiemoto = consolidadogeneral[(consolidadogeneral[\"CIUDADEMPLEADO\"]==\"Floridablanca\")&(consolidadogeneral[\"CIUDADTRABAJO\"]==\"PIEDECUESTA\")&(consolidadogeneral[\"MEDIOTRANSPORTE\"]==\"MOTO\")]\n",
    "flopieotros = consolidadogeneral[(consolidadogeneral[\"CIUDADEMPLEADO\"]==\"Floridablanca\")&(consolidadogeneral[\"CIUDADTRABAJO\"]==\"PIEDECUESTA\")&(consolidadogeneral[\"MEDIOTRANSPORTE\"]==\"OTROS\")]\n",
    "flopiemediosalternativos = consolidadogeneral[(consolidadogeneral[\"CIUDADEMPLEADO\"]==\"Floridablanca\")&(consolidadogeneral[\"CIUDADTRABAJO\"]==\"PIEDECUESTA\")&(consolidadogeneral[\"MEDIOTRANSPORTE\"]==\"PATINETA\")]\n",
    "flopietaxi = consolidadogeneral[(consolidadogeneral[\"CIUDADEMPLEADO\"]==\"Floridablanca\")&(consolidadogeneral[\"CIUDADTRABAJO\"]==\"PIEDECUESTA\")&(consolidadogeneral[\"MEDIOTRANSPORTE\"]==\"TAXI\")]\n",
    "\n",
    "porcenauto = (len(flopieauto)/empleadostotales)*100\n",
    "flopieauto = str(len(flopieauto))+\"-\"+str(\"{0:.2f}\".format(porcenauto))+\"%\"\n",
    "porcenbici = (len(flopiebici)/empleadostotales)*100\n",
    "flopiebici = str(len(flopiebici))+\"-\"+str(\"{0:.2f}\".format(porcenbici))+\"%\"\n",
    "porcenbus = (len(flopiebus)/empleadostotales)*100\n",
    "flopiebus = str(len(flopiebus))+\"-\"+str(\"{0:.2f}\".format(porcenbus))+\"%\"\n",
    "porcencami = (len(flopiecaminando)/empleadostotales)*100\n",
    "flopiecami = str(len(flopiecaminando))+\"-\"+str(\"{0:.2f}\".format(porcencami))+\"%\"\n",
    "porcenmetro = (len(flopiemetro)/empleadostotales)*100\n",
    "flopiemetro = str(len(flopiemetro))+\"-\"+str(\"{0:.2f}\".format(porcenmetro))+\"%\"\n",
    "porcenmoto = (len(flopiemoto)/empleadostotales)*100\n",
    "flopiemoto = str(len(flopiemoto))+\"-\"+str(\"{0:.2f}\".format(porcenmoto))+\"%\"\n",
    "porcenotros = (len(flopieotros)/empleadostotales)*100\n",
    "flopieotros = str(len(flopieotros))+\"-\"+str(\"{0:.2f}\".format(porcenotros))+\"%\"\n",
    "porcenalter = (len(flopiemediosalternativos)/empleadostotales)*100\n",
    "flopiealter = str(len(flopiemediosalternativos))+\"-\"+str(\"{0:.2f}\".format(porcenalter))+\"%\"\n",
    "porcentaxi = (len(flopietaxi)/empleadostotales)*100\n",
    "flopietaxi = str(len(flopietaxi))+\"-\"+str(\"{0:.2f}\".format(porcentaxi))+\"%\""
   ]
  },
  {
   "cell_type": "code",
   "execution_count": 247,
   "metadata": {},
   "outputs": [],
   "source": [
    "estadisticaflori = pd.DataFrame(columns=('AUTOMOVIL','BICICLETA', 'BUS CONVENCIONAL', 'CAMINANDO', 'METROLINEA','MOTO','OTROS*','MEDIOS ALTERNATIVOS','TAXI'))\n",
    "estadisticaflori.loc[len(estadisticaflori)]=[totalauto,totalbici,totalbus,totalcami,totalmetro,totalmoto,totalotros,totalalter,totaltaxi]\n",
    "estadisticaflori.loc[len(estadisticaflori)]=[floriauto,floribici,floribus,floricami,florimetro,florimoto,floriotros,florialter,floritaxi]\n",
    "estadisticaflori.loc[len(estadisticaflori)]=[floauto,flobici,flobus,flocami,flometro,flomoto,flootros,floalter,flotaxi]\n",
    "estadisticaflori.loc[len(estadisticaflori)]=[flogirauto,flogirbici,flogirbus,flogircami,flogirmetro,flogirmoto,flogirotros,flogiralter,flogirtaxi]\n",
    "estadisticaflori.loc[len(estadisticaflori)]=[flopieauto,flopiebici,flopiebus,flopiecami,flopiemetro,flopiemoto,flopieotros,flopiealter,flopietaxi]\n",
    "estadisticaflori = estadisticaflori.T\n",
    "estadisticaflori.columns = ['Total','Bucaramanga', 'Floridablanca', 'Girón', 'Piedecuesta']\n"
   ]
  },
  {
   "cell_type": "code",
   "execution_count": 215,
   "metadata": {},
   "outputs": [],
   "source": [
    "gironauto = consolidadogeneral[(consolidadogeneral[\"CIUDADEMPLEADO\"]==\"Giron\")&(consolidadogeneral[\"MEDIOTRANSPORTE\"]==\"AUTOMOVIL\")]\n",
    "gironbici = consolidadogeneral[(consolidadogeneral[\"CIUDADEMPLEADO\"]==\"Giron\")&(consolidadogeneral[\"MEDIOTRANSPORTE\"]==\"BICICLETA\")]\n",
    "gironbus = consolidadogeneral[(consolidadogeneral[\"CIUDADEMPLEADO\"]==\"Giron\")&(consolidadogeneral[\"MEDIOTRANSPORTE\"]==\"BUS CONVENCIONAL\")]\n",
    "gironcaminando = consolidadogeneral[(consolidadogeneral[\"CIUDADEMPLEADO\"]==\"Giron\")&(consolidadogeneral[\"MEDIOTRANSPORTE\"]==\"CAMINANDO\")]\n",
    "gironmetro = consolidadogeneral[(consolidadogeneral[\"CIUDADEMPLEADO\"]==\"Giron\")&(consolidadogeneral[\"MEDIOTRANSPORTE\"]==\"METROLINEA\")]\n",
    "gironmoto = consolidadogeneral[(consolidadogeneral[\"CIUDADEMPLEADO\"]==\"Giron\")&(consolidadogeneral[\"MEDIOTRANSPORTE\"]==\"MOTO\")]\n",
    "gironotros = consolidadogeneral[(consolidadogeneral[\"CIUDADEMPLEADO\"]==\"Giron\")&(consolidadogeneral[\"MEDIOTRANSPORTE\"]==\"OTROS\")]\n",
    "gironmediosalternativos = consolidadogeneral[(consolidadogeneral[\"CIUDADEMPLEADO\"]==\"Giron\")&(consolidadogeneral[\"MEDIOTRANSPORTE\"]==\"PATINETA\")]\n",
    "girontaxi = consolidadogeneral[(consolidadogeneral[\"CIUDADEMPLEADO\"]==\"Giron\")&(consolidadogeneral[\"MEDIOTRANSPORTE\"]==\"TAXI\")]\n",
    "\n",
    "porcenauto = (len(gironauto)/empleadostotales)*100\n",
    "totalauto = str(len(gironauto))+\"-\"+str(\"{0:.2f}\".format(porcenauto))+\"%\"\n",
    "porcenbici = (len(gironbici)/empleadostotales)*100\n",
    "totalbici = str(len(gironbici))+\"-\"+str(\"{0:.2f}\".format(porcenbici))+\"%\"\n",
    "porcenbus = (len(gironbus)/empleadostotales)*100\n",
    "totalbus = str(len(gironbus))+\"-\"+str(\"{0:.2f}\".format(porcenbus))+\"%\"\n",
    "porcencami = (len(gironcaminando)/empleadostotales)*100\n",
    "totalcami = str(len(gironcaminando))+\"-\"+str(\"{0:.2f}\".format(porcencami))+\"%\"\n",
    "porcenmetro = (len(gironmetro)/empleadostotales)*100\n",
    "totalmetro = str(len(gironmetro))+\"-\"+str(\"{0:.2f}\".format(porcenmetro))+\"%\"\n",
    "porcenmoto = (len(gironmoto)/empleadostotales)*100\n",
    "totalmoto = str(len(gironmoto))+\"-\"+str(\"{0:.2f}\".format(porcenmoto))+\"%\"\n",
    "porcenotros = (len(gironotros)/empleadostotales)*100\n",
    "totalotros = str(len(gironotros))+\"-\"+str(\"{0:.2f}\".format(porcenotros))+\"%\"\n",
    "porcenalter = (len(gironmediosalternativos)/empleadostotales)*100\n",
    "totalalter = str(len(gironmediosalternativos))+\"-\"+str(\"{0:.2f}\".format(porcenalter))+\"%\"\n",
    "porcentaxi = (len(girontaxi)/empleadostotales)*100\n",
    "totaltaxi = str(len(girontaxi))+\"-\"+str(\"{0:.2f}\".format(porcentaxi))+\"%\""
   ]
  },
  {
   "cell_type": "code",
   "execution_count": 220,
   "metadata": {},
   "outputs": [],
   "source": [
    "girobuauto = consolidadogeneral[(consolidadogeneral[\"CIUDADEMPLEADO\"]==\"Giron\")&(consolidadogeneral[\"CIUDADTRABAJO\"]==\"BUCARAMANGA\")&(consolidadogeneral[\"MEDIOTRANSPORTE\"]==\"AUTOMOVIL\")]\n",
    "girobubici = consolidadogeneral[(consolidadogeneral[\"CIUDADEMPLEADO\"]==\"Giron\")&(consolidadogeneral[\"CIUDADTRABAJO\"]==\"BUCARAMANGA\")&(consolidadogeneral[\"MEDIOTRANSPORTE\"]==\"BICICLETA\")]\n",
    "girobubus = consolidadogeneral[(consolidadogeneral[\"CIUDADEMPLEADO\"]==\"Giron\")&(consolidadogeneral[\"CIUDADTRABAJO\"]==\"BUCARAMANGA\")&(consolidadogeneral[\"MEDIOTRANSPORTE\"]==\"BUS CONVENCIONAL\")]\n",
    "girobucaminando = consolidadogeneral[(consolidadogeneral[\"CIUDADEMPLEADO\"]==\"Giron\")&(consolidadogeneral[\"CIUDADTRABAJO\"]==\"BUCARAMANGA\")&(consolidadogeneral[\"MEDIOTRANSPORTE\"]==\"CAMINANDO\")]\n",
    "girobumetro = consolidadogeneral[(consolidadogeneral[\"CIUDADEMPLEADO\"]==\"Giron\")&(consolidadogeneral[\"CIUDADTRABAJO\"]==\"BUCARAMANGA\")&(consolidadogeneral[\"MEDIOTRANSPORTE\"]==\"METROLINEA\")]\n",
    "girobumoto = consolidadogeneral[(consolidadogeneral[\"CIUDADEMPLEADO\"]==\"Giron\")&(consolidadogeneral[\"CIUDADTRABAJO\"]==\"BUCARAMANGA\")&(consolidadogeneral[\"MEDIOTRANSPORTE\"]==\"MOTO\")]\n",
    "girobuotros = consolidadogeneral[(consolidadogeneral[\"CIUDADEMPLEADO\"]==\"Giron\")&(consolidadogeneral[\"CIUDADTRABAJO\"]==\"BUCARAMANGA\")&(consolidadogeneral[\"MEDIOTRANSPORTE\"]==\"OTROS\")]\n",
    "girobumediosalternativos = consolidadogeneral[(consolidadogeneral[\"CIUDADEMPLEADO\"]==\"Giron\")&(consolidadogeneral[\"CIUDADTRABAJO\"]==\"BUCARAMANGA\")&(consolidadogeneral[\"MEDIOTRANSPORTE\"]==\"PATINETA\")]\n",
    "girobutaxi = consolidadogeneral[(consolidadogeneral[\"CIUDADEMPLEADO\"]==\"Giron\")&(consolidadogeneral[\"CIUDADTRABAJO\"]==\"BUCARAMANGA\")&(consolidadogeneral[\"MEDIOTRANSPORTE\"]==\"TAXI\")]\n",
    "\n",
    "porcenauto = (len(girobuauto)/empleadostotales)*100\n",
    "girobuauto = str(len(girobuauto))+\"-\"+str(\"{0:.2f}\".format(porcenauto))+\"%\"\n",
    "porcenbici = (len(girobubici)/empleadostotales)*100\n",
    "girobubici = str(len(girobubici))+\"-\"+str(\"{0:.2f}\".format(porcenbici))+\"%\"\n",
    "porcenbus = (len(girobubus)/empleadostotales)*100\n",
    "girobubus = str(len(girobubus))+\"-\"+str(\"{0:.2f}\".format(porcenbus))+\"%\"\n",
    "porcencami = (len(girobucaminando)/empleadostotales)*100\n",
    "girobucami = str(len(girobucaminando))+\"-\"+str(\"{0:.2f}\".format(porcencami))+\"%\"\n",
    "porcenmetro = (len(girobumetro)/empleadostotales)*100\n",
    "girobumetro = str(len(girobumetro))+\"-\"+str(\"{0:.2f}\".format(porcenmetro))+\"%\"\n",
    "porcenmoto = (len(girobumoto)/empleadostotales)*100\n",
    "girobumoto = str(len(girobumoto))+\"-\"+str(\"{0:.2f}\".format(porcenmoto))+\"%\"\n",
    "porcenotros = (len(girobuotros)/empleadostotales)*100\n",
    "girobuotros = str(len(girobuotros))+\"-\"+str(\"{0:.2f}\".format(porcenotros))+\"%\"\n",
    "porcenalter = (len(girobumediosalternativos)/empleadostotales)*100\n",
    "girobualter = str(len(girobumediosalternativos))+\"-\"+str(\"{0:.2f}\".format(porcenalter))+\"%\"\n",
    "porcentaxi = (len(girobutaxi)/empleadostotales)*100\n",
    "girobutaxi = str(len(girobutaxi))+\"-\"+str(\"{0:.2f}\".format(porcentaxi))+\"%\"\n"
   ]
  },
  {
   "cell_type": "code",
   "execution_count": 227,
   "metadata": {},
   "outputs": [],
   "source": [
    "girofloauto = consolidadogeneral[(consolidadogeneral[\"CIUDADEMPLEADO\"]==\"Giron\")&(consolidadogeneral[\"CIUDADTRABAJO\"]==\"FLORIDABLANCA\")&(consolidadogeneral[\"MEDIOTRANSPORTE\"]==\"AUTOMOVIL\")]\n",
    "giroflobici = consolidadogeneral[(consolidadogeneral[\"CIUDADEMPLEADO\"]==\"Giron\")&(consolidadogeneral[\"CIUDADTRABAJO\"]==\"FLORIDABLANCA\")&(consolidadogeneral[\"MEDIOTRANSPORTE\"]==\"BICICLETA\")]\n",
    "giroflobus = consolidadogeneral[(consolidadogeneral[\"CIUDADEMPLEADO\"]==\"Giron\")&(consolidadogeneral[\"CIUDADTRABAJO\"]==\"FLORIDABLANCA\")&(consolidadogeneral[\"MEDIOTRANSPORTE\"]==\"BUS CONVENCIONAL\")]\n",
    "giroflocaminando = consolidadogeneral[(consolidadogeneral[\"CIUDADEMPLEADO\"]==\"Giron\")&(consolidadogeneral[\"CIUDADTRABAJO\"]==\"FLORIDABLANCA\")&(consolidadogeneral[\"MEDIOTRANSPORTE\"]==\"CAMINANDO\")]\n",
    "giroflometro = consolidadogeneral[(consolidadogeneral[\"CIUDADEMPLEADO\"]==\"Giron\")&(consolidadogeneral[\"CIUDADTRABAJO\"]==\"FLORIDABLANCA\")&(consolidadogeneral[\"MEDIOTRANSPORTE\"]==\"METROLINEA\")]\n",
    "giroflomoto = consolidadogeneral[(consolidadogeneral[\"CIUDADEMPLEADO\"]==\"Giron\")&(consolidadogeneral[\"CIUDADTRABAJO\"]==\"FLORIDABLANCA\")&(consolidadogeneral[\"MEDIOTRANSPORTE\"]==\"MOTO\")]\n",
    "giroflootros = consolidadogeneral[(consolidadogeneral[\"CIUDADEMPLEADO\"]==\"Giron\")&(consolidadogeneral[\"CIUDADTRABAJO\"]==\"FLORIDABLANCA\")&(consolidadogeneral[\"MEDIOTRANSPORTE\"]==\"OTROS\")]\n",
    "giroflomediosalternativos = consolidadogeneral[(consolidadogeneral[\"CIUDADEMPLEADO\"]==\"Giron\")&(consolidadogeneral[\"CIUDADTRABAJO\"]==\"FLORIDABLANCA\")&(consolidadogeneral[\"MEDIOTRANSPORTE\"]==\"PATINETA\")]\n",
    "giroflotaxi = consolidadogeneral[(consolidadogeneral[\"CIUDADEMPLEADO\"]==\"Giron\")&(consolidadogeneral[\"CIUDADTRABAJO\"]==\"FLORIDABLANCA\")&(consolidadogeneral[\"MEDIOTRANSPORTE\"]==\"TAXI\")]\n",
    "\n",
    "porcenauto = (len(girofloauto)/empleadostotales)*100\n",
    "girofloauto = str(len(girofloauto))+\"-\"+str(\"{0:.2f}\".format(porcenauto))+\"%\"\n",
    "porcenbici = (len(giroflobici)/empleadostotales)*100\n",
    "giroflobici = str(len(giroflobici))+\"-\"+str(\"{0:.2f}\".format(porcenbici))+\"%\"\n",
    "porcenbus = (len(giroflobus)/empleadostotales)*100\n",
    "giroflobus = str(len(giroflobus))+\"-\"+str(\"{0:.2f}\".format(porcenbus))+\"%\"\n",
    "porcencami = (len(giroflocaminando)/empleadostotales)*100\n",
    "giroflocami = str(len(giroflocaminando))+\"-\"+str(\"{0:.2f}\".format(porcencami))+\"%\"\n",
    "porcenmetro = (len(giroflometro)/empleadostotales)*100\n",
    "giroflometro = str(len(giroflometro))+\"-\"+str(\"{0:.2f}\".format(porcenmetro))+\"%\"\n",
    "porcenmoto = (len(giroflomoto)/empleadostotales)*100\n",
    "giroflomoto = str(len(giroflomoto))+\"-\"+str(\"{0:.2f}\".format(porcenmoto))+\"%\"\n",
    "porcenotros = (len(giroflootros)/empleadostotales)*100\n",
    "giroflootros = str(len(giroflootros))+\"-\"+str(\"{0:.2f}\".format(porcenotros))+\"%\"\n",
    "porcenalter = (len(giroflomediosalternativos)/empleadostotales)*100\n",
    "girofloalter = str(len(giroflomediosalternativos))+\"-\"+str(\"{0:.2f}\".format(porcenalter))+\"%\"\n",
    "porcentaxi = (len(giroflotaxi)/empleadostotales)*100\n",
    "giroflotaxi = str(len(giroflotaxi))+\"-\"+str(\"{0:.2f}\".format(porcentaxi))+\"%\"\n"
   ]
  },
  {
   "cell_type": "code",
   "execution_count": 231,
   "metadata": {},
   "outputs": [],
   "source": [
    "girogirauto = consolidadogeneral[(consolidadogeneral[\"CIUDADEMPLEADO\"]==\"Giron\")&(consolidadogeneral[\"CIUDADTRABAJO\"]==\"GIRON\")&(consolidadogeneral[\"MEDIOTRANSPORTE\"]==\"AUTOMOVIL\")]\n",
    "girogirbici = consolidadogeneral[(consolidadogeneral[\"CIUDADEMPLEADO\"]==\"Giron\")&(consolidadogeneral[\"CIUDADTRABAJO\"]==\"GIRON\")&(consolidadogeneral[\"MEDIOTRANSPORTE\"]==\"BICICLETA\")]\n",
    "girogirbus = consolidadogeneral[(consolidadogeneral[\"CIUDADEMPLEADO\"]==\"Giron\")&(consolidadogeneral[\"CIUDADTRABAJO\"]==\"GIRON\")&(consolidadogeneral[\"MEDIOTRANSPORTE\"]==\"BUS CONVENCIONAL\")]\n",
    "girogircaminando = consolidadogeneral[(consolidadogeneral[\"CIUDADEMPLEADO\"]==\"Giron\")&(consolidadogeneral[\"CIUDADTRABAJO\"]==\"GIRON\")&(consolidadogeneral[\"MEDIOTRANSPORTE\"]==\"CAMINANDO\")]\n",
    "girogirmetro = consolidadogeneral[(consolidadogeneral[\"CIUDADEMPLEADO\"]==\"Giron\")&(consolidadogeneral[\"CIUDADTRABAJO\"]==\"GIRON\")&(consolidadogeneral[\"MEDIOTRANSPORTE\"]==\"METROLINEA\")]\n",
    "girogirmoto = consolidadogeneral[(consolidadogeneral[\"CIUDADEMPLEADO\"]==\"Giron\")&(consolidadogeneral[\"CIUDADTRABAJO\"]==\"GIRON\")&(consolidadogeneral[\"MEDIOTRANSPORTE\"]==\"MOTO\")]\n",
    "girogirotros = consolidadogeneral[(consolidadogeneral[\"CIUDADEMPLEADO\"]==\"Giron\")&(consolidadogeneral[\"CIUDADTRABAJO\"]==\"GIRON\")&(consolidadogeneral[\"MEDIOTRANSPORTE\"]==\"OTROS\")]\n",
    "girogirmediosalternativos = consolidadogeneral[(consolidadogeneral[\"CIUDADEMPLEADO\"]==\"Giron\")&(consolidadogeneral[\"CIUDADTRABAJO\"]==\"GIRON\")&(consolidadogeneral[\"MEDIOTRANSPORTE\"]==\"PATINETA\")]\n",
    "girogirtaxi = consolidadogeneral[(consolidadogeneral[\"CIUDADEMPLEADO\"]==\"Giron\")&(consolidadogeneral[\"CIUDADTRABAJO\"]==\"GIRON\")&(consolidadogeneral[\"MEDIOTRANSPORTE\"]==\"TAXI\")]\n",
    "\n",
    "porcenauto = (len(girogirauto)/empleadostotales)*100\n",
    "girogirauto = str(len(girogirauto))+\"-\"+str(\"{0:.2f}\".format(porcenauto))+\"%\"\n",
    "porcenbici = (len(girogirbici)/empleadostotales)*100\n",
    "girogirbici = str(len(girogirbici))+\"-\"+str(\"{0:.2f}\".format(porcenbici))+\"%\"\n",
    "porcenbus = (len(girogirbus)/empleadostotales)*100\n",
    "girogirbus = str(len(girogirbus))+\"-\"+str(\"{0:.2f}\".format(porcenbus))+\"%\"\n",
    "porcencami = (len(girogircaminando)/empleadostotales)*100\n",
    "girogircami = str(len(girogircaminando))+\"-\"+str(\"{0:.2f}\".format(porcencami))+\"%\"\n",
    "porcenmetro = (len(girogirmetro)/empleadostotales)*100\n",
    "girogirmetro = str(len(girogirmetro))+\"-\"+str(\"{0:.2f}\".format(porcenmetro))+\"%\"\n",
    "porcenmoto = (len(girogirmoto)/empleadostotales)*100\n",
    "girogirmoto = str(len(girogirmoto))+\"-\"+str(\"{0:.2f}\".format(porcenmoto))+\"%\"\n",
    "porcenotros = (len(girogirotros)/empleadostotales)*100\n",
    "girogirotros = str(len(girogirotros))+\"-\"+str(\"{0:.2f}\".format(porcenotros))+\"%\"\n",
    "porcenalter = (len(girogirmediosalternativos)/empleadostotales)*100\n",
    "girogiralter = str(len(girogirmediosalternativos))+\"-\"+str(\"{0:.2f}\".format(porcenalter))+\"%\"\n",
    "porcentaxi = (len(girogirtaxi)/empleadostotales)*100\n",
    "girogirtaxi = str(len(girogirtaxi))+\"-\"+str(\"{0:.2f}\".format(porcentaxi))+\"%\"\n"
   ]
  },
  {
   "cell_type": "code",
   "execution_count": 233,
   "metadata": {},
   "outputs": [],
   "source": [
    "giropieauto = consolidadogeneral[(consolidadogeneral[\"CIUDADEMPLEADO\"]==\"Giron\")&(consolidadogeneral[\"CIUDADTRABAJO\"]==\"PIEDECUESTA\")&(consolidadogeneral[\"MEDIOTRANSPORTE\"]==\"AUTOMOVIL\")]\n",
    "giropiebici = consolidadogeneral[(consolidadogeneral[\"CIUDADEMPLEADO\"]==\"Giron\")&(consolidadogeneral[\"CIUDADTRABAJO\"]==\"PIEDECUESTA\")&(consolidadogeneral[\"MEDIOTRANSPORTE\"]==\"BICICLETA\")]\n",
    "giropiebus = consolidadogeneral[(consolidadogeneral[\"CIUDADEMPLEADO\"]==\"Giron\")&(consolidadogeneral[\"CIUDADTRABAJO\"]==\"PIEDECUESTA\")&(consolidadogeneral[\"MEDIOTRANSPORTE\"]==\"BUS CONVENCIONAL\")]\n",
    "giropiecaminando = consolidadogeneral[(consolidadogeneral[\"CIUDADEMPLEADO\"]==\"Giron\")&(consolidadogeneral[\"CIUDADTRABAJO\"]==\"PIEDECUESTA\")&(consolidadogeneral[\"MEDIOTRANSPORTE\"]==\"CAMINANDO\")]\n",
    "giropiemetro = consolidadogeneral[(consolidadogeneral[\"CIUDADEMPLEADO\"]==\"Giron\")&(consolidadogeneral[\"CIUDADTRABAJO\"]==\"PIEDECUESTA\")&(consolidadogeneral[\"MEDIOTRANSPORTE\"]==\"METROLINEA\")]\n",
    "giropiemoto = consolidadogeneral[(consolidadogeneral[\"CIUDADEMPLEADO\"]==\"Giron\")&(consolidadogeneral[\"CIUDADTRABAJO\"]==\"PIEDECUESTA\")&(consolidadogeneral[\"MEDIOTRANSPORTE\"]==\"MOTO\")]\n",
    "giropieotros = consolidadogeneral[(consolidadogeneral[\"CIUDADEMPLEADO\"]==\"Giron\")&(consolidadogeneral[\"CIUDADTRABAJO\"]==\"PIEDECUESTA\")&(consolidadogeneral[\"MEDIOTRANSPORTE\"]==\"OTROS\")]\n",
    "giropiemediosalternativos = consolidadogeneral[(consolidadogeneral[\"CIUDADEMPLEADO\"]==\"Giron\")&(consolidadogeneral[\"CIUDADTRABAJO\"]==\"PIEDECUESTA\")&(consolidadogeneral[\"MEDIOTRANSPORTE\"]==\"PATINETA\")]\n",
    "giropietaxi = consolidadogeneral[(consolidadogeneral[\"CIUDADEMPLEADO\"]==\"Giron\")&(consolidadogeneral[\"CIUDADTRABAJO\"]==\"PIEDECUESTA\")&(consolidadogeneral[\"MEDIOTRANSPORTE\"]==\"TAXI\")]\n",
    "\n",
    "porcenauto = (len(giropieauto)/empleadostotales)*100\n",
    "giropieauto = str(len(giropieauto))+\"-\"+str(\"{0:.2f}\".format(porcenauto))+\"%\"\n",
    "porcenbici = (len(giropiebici)/empleadostotales)*100\n",
    "giropiebici = str(len(giropiebici))+\"-\"+str(\"{0:.2f}\".format(porcenbici))+\"%\"\n",
    "porcenbus = (len(giropiebus)/empleadostotales)*100\n",
    "giropiebus = str(len(giropiebus))+\"-\"+str(\"{0:.2f}\".format(porcenbus))+\"%\"\n",
    "porcencami = (len(giropiecaminando)/empleadostotales)*100\n",
    "giropiecami = str(len(giropiecaminando))+\"-\"+str(\"{0:.2f}\".format(porcencami))+\"%\"\n",
    "porcenmetro = (len(giropiemetro)/empleadostotales)*100\n",
    "giropiemetro = str(len(giropiemetro))+\"-\"+str(\"{0:.2f}\".format(porcenmetro))+\"%\"\n",
    "porcenmoto = (len(giropiemoto)/empleadostotales)*100\n",
    "giropiemoto = str(len(giropiemoto))+\"-\"+str(\"{0:.2f}\".format(porcenmoto))+\"%\"\n",
    "porcenotros = (len(giropieotros)/empleadostotales)*100\n",
    "giropieotros = str(len(giropieotros))+\"-\"+str(\"{0:.2f}\".format(porcenotros))+\"%\"\n",
    "porcenalter = (len(giropiemediosalternativos)/empleadostotales)*100\n",
    "giropiealter = str(len(giropiemediosalternativos))+\"-\"+str(\"{0:.2f}\".format(porcenalter))+\"%\"\n",
    "porcentaxi = (len(giropietaxi)/empleadostotales)*100\n",
    "giropietaxi = str(len(giropietaxi))+\"-\"+str(\"{0:.2f}\".format(porcentaxi))+\"%\"\n"
   ]
  },
  {
   "cell_type": "code",
   "execution_count": 246,
   "metadata": {},
   "outputs": [],
   "source": [
    "estadisticagiron = pd.DataFrame(columns=('AUTOMOVIL','BICICLETA', 'BUS CONVENCIONAL', 'CAMINANDO', 'METROLINEA','MOTO','OTROS*','MEDIOS ALTERNATIVOS','TAXI'))\n",
    "estadisticagiron.loc[len(estadisticagiron)]=[totalauto,totalbici,totalbus,totalcami,totalmetro,totalmoto,totalotros,totalalter,totaltaxi]\n",
    "estadisticagiron.loc[len(estadisticagiron)]=[girobuauto,girobubici,girobubus,girobucami,girobumetro,girobumoto,girobuotros,girobualter,girobutaxi]\n",
    "estadisticagiron.loc[len(estadisticagiron)]=[girofloauto,giroflobici,giroflobus,giroflocami,giroflometro,giroflomoto,giroflootros,girofloalter,giroflotaxi]\n",
    "estadisticagiron.loc[len(estadisticagiron)]=[girogirauto,girogirbici,girogirbus,girogircami,girogirmetro,girogirmoto,girogirotros,girogiralter,girogirtaxi]\n",
    "estadisticagiron.loc[len(estadisticagiron)]=[giropieauto,giropiebici,giropiebus,giropiecami,giropiemetro,giropiemoto,giropieotros,giropiealter,giropietaxi]\n",
    "estadisticagiron = estadisticagiron.T\n",
    "estadisticagiron.columns = ['Total','Bucaramanga', 'Floridablanca', 'Girón', 'Piedecuesta']"
   ]
  },
  {
   "cell_type": "code",
   "execution_count": 235,
   "metadata": {},
   "outputs": [],
   "source": [
    "pieauto = consolidadogeneral[(consolidadogeneral[\"CIUDADEMPLEADO\"]==\"Piedecuesta\")&(consolidadogeneral[\"MEDIOTRANSPORTE\"]==\"AUTOMOVIL\")]\n",
    "piebici = consolidadogeneral[(consolidadogeneral[\"CIUDADEMPLEADO\"]==\"Piedecuesta\")&(consolidadogeneral[\"MEDIOTRANSPORTE\"]==\"BICICLETA\")]\n",
    "piebus = consolidadogeneral[(consolidadogeneral[\"CIUDADEMPLEADO\"]==\"Piedecuesta\")&(consolidadogeneral[\"MEDIOTRANSPORTE\"]==\"BUS CONVENCIONAL\")]\n",
    "piecaminando = consolidadogeneral[(consolidadogeneral[\"CIUDADEMPLEADO\"]==\"Piedecuesta\")&(consolidadogeneral[\"MEDIOTRANSPORTE\"]==\"CAMINANDO\")]\n",
    "piemetro = consolidadogeneral[(consolidadogeneral[\"CIUDADEMPLEADO\"]==\"Piedecuesta\")&(consolidadogeneral[\"MEDIOTRANSPORTE\"]==\"METROLINEA\")]\n",
    "piemoto = consolidadogeneral[(consolidadogeneral[\"CIUDADEMPLEADO\"]==\"Piedecuesta\")&(consolidadogeneral[\"MEDIOTRANSPORTE\"]==\"MOTO\")]\n",
    "pieotros = consolidadogeneral[(consolidadogeneral[\"CIUDADEMPLEADO\"]==\"Piedecuesta\")&(consolidadogeneral[\"MEDIOTRANSPORTE\"]==\"OTROS\")]\n",
    "piemediosalternativos = consolidadogeneral[(consolidadogeneral[\"CIUDADEMPLEADO\"]==\"Piedecuesta\")&(consolidadogeneral[\"MEDIOTRANSPORTE\"]==\"PATINETA\")]\n",
    "pietaxi = consolidadogeneral[(consolidadogeneral[\"CIUDADEMPLEADO\"]==\"Piedecuesta\")&(consolidadogeneral[\"MEDIOTRANSPORTE\"]==\"TAXI\")]\n",
    "\n",
    "porcenauto = (len(pieauto)/empleadostotales)*100\n",
    "totalauto = str(len(pieauto))+\"-\"+str(\"{0:.2f}\".format(porcenauto))+\"%\"\n",
    "porcenbici = (len(piebici)/empleadostotales)*100\n",
    "totalbici = str(len(piebici))+\"-\"+str(\"{0:.2f}\".format(porcenbici))+\"%\"\n",
    "porcenbus = (len(piebus)/empleadostotales)*100\n",
    "totalbus = str(len(piebus))+\"-\"+str(\"{0:.2f}\".format(porcenbus))+\"%\"\n",
    "porcencami = (len(piecaminando)/empleadostotales)*100\n",
    "totalcami = str(len(piecaminando))+\"-\"+str(\"{0:.2f}\".format(porcencami))+\"%\"\n",
    "porcenmetro = (len(piemetro)/empleadostotales)*100\n",
    "totalmetro = str(len(piemetro))+\"-\"+str(\"{0:.2f}\".format(porcenmetro))+\"%\"\n",
    "porcenmoto = (len(piemoto)/empleadostotales)*100\n",
    "totalmoto = str(len(piemoto))+\"-\"+str(\"{0:.2f}\".format(porcenmoto))+\"%\"\n",
    "porcenotros = (len(pieotros)/empleadostotales)*100\n",
    "totalotros = str(len(pieotros))+\"-\"+str(\"{0:.2f}\".format(porcenotros))+\"%\"\n",
    "porcenalter = (len(piemediosalternativos)/empleadostotales)*100\n",
    "totalalter = str(len(piemediosalternativos))+\"-\"+str(\"{0:.2f}\".format(porcenalter))+\"%\"\n",
    "porcentaxi = (len(pietaxi)/empleadostotales)*100\n",
    "totaltaxi = str(len(pietaxi))+\"-\"+str(\"{0:.2f}\".format(porcentaxi))+\"%\""
   ]
  },
  {
   "cell_type": "code",
   "execution_count": 237,
   "metadata": {},
   "outputs": [],
   "source": [
    "piebuauto = consolidadogeneral[(consolidadogeneral[\"CIUDADEMPLEADO\"]==\"Piedecuesta\")&(consolidadogeneral[\"CIUDADTRABAJO\"]==\"BUCARAMANGA\")&(consolidadogeneral[\"MEDIOTRANSPORTE\"]==\"AUTOMOVIL\")]\n",
    "piebubici = consolidadogeneral[(consolidadogeneral[\"CIUDADEMPLEADO\"]==\"Piedecuesta\")&(consolidadogeneral[\"CIUDADTRABAJO\"]==\"BUCARAMANGA\")&(consolidadogeneral[\"MEDIOTRANSPORTE\"]==\"BICICLETA\")]\n",
    "piebubus = consolidadogeneral[(consolidadogeneral[\"CIUDADEMPLEADO\"]==\"Piedecuesta\")&(consolidadogeneral[\"CIUDADTRABAJO\"]==\"BUCARAMANGA\")&(consolidadogeneral[\"MEDIOTRANSPORTE\"]==\"BUS CONVENCIONAL\")]\n",
    "piebucaminando = consolidadogeneral[(consolidadogeneral[\"CIUDADEMPLEADO\"]==\"Piedecuesta\")&(consolidadogeneral[\"CIUDADTRABAJO\"]==\"BUCARAMANGA\")&(consolidadogeneral[\"MEDIOTRANSPORTE\"]==\"CAMINANDO\")]\n",
    "piebumetro = consolidadogeneral[(consolidadogeneral[\"CIUDADEMPLEADO\"]==\"Piedecuesta\")&(consolidadogeneral[\"CIUDADTRABAJO\"]==\"BUCARAMANGA\")&(consolidadogeneral[\"MEDIOTRANSPORTE\"]==\"METROLINEA\")]\n",
    "piebumoto = consolidadogeneral[(consolidadogeneral[\"CIUDADEMPLEADO\"]==\"Piedecuesta\")&(consolidadogeneral[\"CIUDADTRABAJO\"]==\"BUCARAMANGA\")&(consolidadogeneral[\"MEDIOTRANSPORTE\"]==\"MOTO\")]\n",
    "piebuotros = consolidadogeneral[(consolidadogeneral[\"CIUDADEMPLEADO\"]==\"Piedecuesta\")&(consolidadogeneral[\"CIUDADTRABAJO\"]==\"BUCARAMANGA\")&(consolidadogeneral[\"MEDIOTRANSPORTE\"]==\"OTROS\")]\n",
    "piebumediosalternativos = consolidadogeneral[(consolidadogeneral[\"CIUDADEMPLEADO\"]==\"Piedecuesta\")&(consolidadogeneral[\"CIUDADTRABAJO\"]==\"BUCARAMANGA\")&(consolidadogeneral[\"MEDIOTRANSPORTE\"]==\"PATINETA\")]\n",
    "piebutaxi = consolidadogeneral[(consolidadogeneral[\"CIUDADEMPLEADO\"]==\"Piedecuesta\")&(consolidadogeneral[\"CIUDADTRABAJO\"]==\"BUCARAMANGA\")&(consolidadogeneral[\"MEDIOTRANSPORTE\"]==\"TAXI\")]\n",
    "\n",
    "porcenauto = (len(piebuauto)/empleadostotales)*100\n",
    "piebuauto = str(len(piebuauto))+\"-\"+str(\"{0:.2f}\".format(porcenauto))+\"%\"\n",
    "porcenbici = (len(piebubici)/empleadostotales)*100\n",
    "piebubici = str(len(piebubici))+\"-\"+str(\"{0:.2f}\".format(porcenbici))+\"%\"\n",
    "porcenbus = (len(piebubus)/empleadostotales)*100\n",
    "piebubus = str(len(piebubus))+\"-\"+str(\"{0:.2f}\".format(porcenbus))+\"%\"\n",
    "porcencami = (len(piebucaminando)/empleadostotales)*100\n",
    "piebucami = str(len(piebucaminando))+\"-\"+str(\"{0:.2f}\".format(porcencami))+\"%\"\n",
    "porcenmetro = (len(piebumetro)/empleadostotales)*100\n",
    "piebumetro = str(len(piebumetro))+\"-\"+str(\"{0:.2f}\".format(porcenmetro))+\"%\"\n",
    "porcenmoto = (len(piebumoto)/empleadostotales)*100\n",
    "piebumoto = str(len(piebumoto))+\"-\"+str(\"{0:.2f}\".format(porcenmoto))+\"%\"\n",
    "porcenotros = (len(piebuotros)/empleadostotales)*100\n",
    "piebuotros = str(len(piebuotros))+\"-\"+str(\"{0:.2f}\".format(porcenotros))+\"%\"\n",
    "porcenalter = (len(piebumediosalternativos)/empleadostotales)*100\n",
    "piebualter = str(len(piebumediosalternativos))+\"-\"+str(\"{0:.2f}\".format(porcenalter))+\"%\"\n",
    "porcentaxi = (len(piebutaxi)/empleadostotales)*100\n",
    "piebutaxi = str(len(piebutaxi))+\"-\"+str(\"{0:.2f}\".format(porcentaxi))+\"%\"\n"
   ]
  },
  {
   "cell_type": "code",
   "execution_count": 239,
   "metadata": {},
   "outputs": [],
   "source": [
    "piefloauto = consolidadogeneral[(consolidadogeneral[\"CIUDADEMPLEADO\"]==\"Piedecuesta\")&(consolidadogeneral[\"CIUDADTRABAJO\"]==\"FLORIDABLANCA\")&(consolidadogeneral[\"MEDIOTRANSPORTE\"]==\"AUTOMOVIL\")]\n",
    "pieflobici = consolidadogeneral[(consolidadogeneral[\"CIUDADEMPLEADO\"]==\"Piedecuesta\")&(consolidadogeneral[\"CIUDADTRABAJO\"]==\"FLORIDABLANCA\")&(consolidadogeneral[\"MEDIOTRANSPORTE\"]==\"BICICLETA\")]\n",
    "pieflobus = consolidadogeneral[(consolidadogeneral[\"CIUDADEMPLEADO\"]==\"Piedecuesta\")&(consolidadogeneral[\"CIUDADTRABAJO\"]==\"FLORIDABLANCA\")&(consolidadogeneral[\"MEDIOTRANSPORTE\"]==\"BUS CONVENCIONAL\")]\n",
    "pieflocaminando = consolidadogeneral[(consolidadogeneral[\"CIUDADEMPLEADO\"]==\"Piedecuesta\")&(consolidadogeneral[\"CIUDADTRABAJO\"]==\"FLORIDABLANCA\")&(consolidadogeneral[\"MEDIOTRANSPORTE\"]==\"CAMINANDO\")]\n",
    "pieflometro = consolidadogeneral[(consolidadogeneral[\"CIUDADEMPLEADO\"]==\"Piedecuesta\")&(consolidadogeneral[\"CIUDADTRABAJO\"]==\"FLORIDABLANCA\")&(consolidadogeneral[\"MEDIOTRANSPORTE\"]==\"METROLINEA\")]\n",
    "pieflomoto = consolidadogeneral[(consolidadogeneral[\"CIUDADEMPLEADO\"]==\"Piedecuesta\")&(consolidadogeneral[\"CIUDADTRABAJO\"]==\"FLORIDABLANCA\")&(consolidadogeneral[\"MEDIOTRANSPORTE\"]==\"MOTO\")]\n",
    "pieflootros = consolidadogeneral[(consolidadogeneral[\"CIUDADEMPLEADO\"]==\"Piedecuesta\")&(consolidadogeneral[\"CIUDADTRABAJO\"]==\"FLORIDABLANCA\")&(consolidadogeneral[\"MEDIOTRANSPORTE\"]==\"OTROS\")]\n",
    "pieflomediosalternativos = consolidadogeneral[(consolidadogeneral[\"CIUDADEMPLEADO\"]==\"Piedecuesta\")&(consolidadogeneral[\"CIUDADTRABAJO\"]==\"FLORIDABLANCA\")&(consolidadogeneral[\"MEDIOTRANSPORTE\"]==\"PATINETA\")]\n",
    "pieflotaxi = consolidadogeneral[(consolidadogeneral[\"CIUDADEMPLEADO\"]==\"Piedecuesta\")&(consolidadogeneral[\"CIUDADTRABAJO\"]==\"FLORIDABLANCA\")&(consolidadogeneral[\"MEDIOTRANSPORTE\"]==\"TAXI\")]\n",
    "\n",
    "porcenauto = (len(piefloauto)/empleadostotales)*100\n",
    "piefloauto = str(len(piefloauto))+\"-\"+str(\"{0:.2f}\".format(porcenauto))+\"%\"\n",
    "porcenbici = (len(pieflobici)/empleadostotales)*100\n",
    "pieflobici = str(len(pieflobici))+\"-\"+str(\"{0:.2f}\".format(porcenbici))+\"%\"\n",
    "porcenbus = (len(pieflobus)/empleadostotales)*100\n",
    "pieflobus = str(len(pieflobus))+\"-\"+str(\"{0:.2f}\".format(porcenbus))+\"%\"\n",
    "porcencami = (len(pieflocaminando)/empleadostotales)*100\n",
    "pieflocami = str(len(pieflocaminando))+\"-\"+str(\"{0:.2f}\".format(porcencami))+\"%\"\n",
    "porcenmetro = (len(pieflometro)/empleadostotales)*100\n",
    "pieflometro = str(len(pieflometro))+\"-\"+str(\"{0:.2f}\".format(porcenmetro))+\"%\"\n",
    "porcenmoto = (len(pieflomoto)/empleadostotales)*100\n",
    "pieflomoto = str(len(pieflomoto))+\"-\"+str(\"{0:.2f}\".format(porcenmoto))+\"%\"\n",
    "porcenotros = (len(pieflootros)/empleadostotales)*100\n",
    "pieflootros = str(len(pieflootros))+\"-\"+str(\"{0:.2f}\".format(porcenotros))+\"%\"\n",
    "porcenalter = (len(pieflomediosalternativos)/empleadostotales)*100\n",
    "piefloalter = str(len(pieflomediosalternativos))+\"-\"+str(\"{0:.2f}\".format(porcenalter))+\"%\"\n",
    "porcentaxi = (len(pieflotaxi)/empleadostotales)*100\n",
    "pieflotaxi = str(len(pieflotaxi))+\"-\"+str(\"{0:.2f}\".format(porcentaxi))+\"%\"\n"
   ]
  },
  {
   "cell_type": "code",
   "execution_count": 241,
   "metadata": {},
   "outputs": [],
   "source": [
    "piegirauto = consolidadogeneral[(consolidadogeneral[\"CIUDADEMPLEADO\"]==\"Piedecuesta\")&(consolidadogeneral[\"CIUDADTRABAJO\"]==\"GIRON\")&(consolidadogeneral[\"MEDIOTRANSPORTE\"]==\"AUTOMOVIL\")]\n",
    "piegirbici = consolidadogeneral[(consolidadogeneral[\"CIUDADEMPLEADO\"]==\"Piedecuesta\")&(consolidadogeneral[\"CIUDADTRABAJO\"]==\"GIRON\")&(consolidadogeneral[\"MEDIOTRANSPORTE\"]==\"BICICLETA\")]\n",
    "piegirbus = consolidadogeneral[(consolidadogeneral[\"CIUDADEMPLEADO\"]==\"Piedecuesta\")&(consolidadogeneral[\"CIUDADTRABAJO\"]==\"GIRON\")&(consolidadogeneral[\"MEDIOTRANSPORTE\"]==\"BUS CONVENCIONAL\")]\n",
    "piegircaminando = consolidadogeneral[(consolidadogeneral[\"CIUDADEMPLEADO\"]==\"Piedecuesta\")&(consolidadogeneral[\"CIUDADTRABAJO\"]==\"GIRON\")&(consolidadogeneral[\"MEDIOTRANSPORTE\"]==\"CAMINANDO\")]\n",
    "piegirmetro = consolidadogeneral[(consolidadogeneral[\"CIUDADEMPLEADO\"]==\"Piedecuesta\")&(consolidadogeneral[\"CIUDADTRABAJO\"]==\"GIRON\")&(consolidadogeneral[\"MEDIOTRANSPORTE\"]==\"METROLINEA\")]\n",
    "piegirmoto = consolidadogeneral[(consolidadogeneral[\"CIUDADEMPLEADO\"]==\"Piedecuesta\")&(consolidadogeneral[\"CIUDADTRABAJO\"]==\"GIRON\")&(consolidadogeneral[\"MEDIOTRANSPORTE\"]==\"MOTO\")]\n",
    "piegirotros = consolidadogeneral[(consolidadogeneral[\"CIUDADEMPLEADO\"]==\"Piedecuesta\")&(consolidadogeneral[\"CIUDADTRABAJO\"]==\"GIRON\")&(consolidadogeneral[\"MEDIOTRANSPORTE\"]==\"OTROS\")]\n",
    "piegirmediosalternativos = consolidadogeneral[(consolidadogeneral[\"CIUDADEMPLEADO\"]==\"Piedecuesta\")&(consolidadogeneral[\"CIUDADTRABAJO\"]==\"GIRON\")&(consolidadogeneral[\"MEDIOTRANSPORTE\"]==\"PATINETA\")]\n",
    "piegirtaxi = consolidadogeneral[(consolidadogeneral[\"CIUDADEMPLEADO\"]==\"Piedecuesta\")&(consolidadogeneral[\"CIUDADTRABAJO\"]==\"GIRON\")&(consolidadogeneral[\"MEDIOTRANSPORTE\"]==\"TAXI\")]\n",
    "\n",
    "porcenauto = (len(piegirauto)/empleadostotales)*100\n",
    "piegirauto = str(len(piegirauto))+\"-\"+str(\"{0:.2f}\".format(porcenauto))+\"%\"\n",
    "porcenbici = (len(piegirbici)/empleadostotales)*100\n",
    "piegirbici = str(len(piegirbici))+\"-\"+str(\"{0:.2f}\".format(porcenbici))+\"%\"\n",
    "porcenbus = (len(piegirbus)/empleadostotales)*100\n",
    "piegirbus = str(len(piegirbus))+\"-\"+str(\"{0:.2f}\".format(porcenbus))+\"%\"\n",
    "porcencami = (len(piegircaminando)/empleadostotales)*100\n",
    "piegircami = str(len(piegircaminando))+\"-\"+str(\"{0:.2f}\".format(porcencami))+\"%\"\n",
    "porcenmetro = (len(piegirmetro)/empleadostotales)*100\n",
    "piegirmetro = str(len(piegirmetro))+\"-\"+str(\"{0:.2f}\".format(porcenmetro))+\"%\"\n",
    "porcenmoto = (len(piegirmoto)/empleadostotales)*100\n",
    "piegirmoto = str(len(piegirmoto))+\"-\"+str(\"{0:.2f}\".format(porcenmoto))+\"%\"\n",
    "porcenotros = (len(piegirotros)/empleadostotales)*100\n",
    "piegirotros = str(len(piegirotros))+\"-\"+str(\"{0:.2f}\".format(porcenotros))+\"%\"\n",
    "porcenalter = (len(piegirmediosalternativos)/empleadostotales)*100\n",
    "piegiralter = str(len(piegirmediosalternativos))+\"-\"+str(\"{0:.2f}\".format(porcenalter))+\"%\"\n",
    "porcentaxi = (len(piegirtaxi)/empleadostotales)*100\n",
    "piegirtaxi = str(len(piegirtaxi))+\"-\"+str(\"{0:.2f}\".format(porcentaxi))+\"%\"\n"
   ]
  },
  {
   "cell_type": "code",
   "execution_count": 243,
   "metadata": {},
   "outputs": [],
   "source": [
    "piepieauto = consolidadogeneral[(consolidadogeneral[\"CIUDADEMPLEADO\"]==\"Piedecuesta\")&(consolidadogeneral[\"CIUDADTRABAJO\"]==\"PIEDECUESTA\")&(consolidadogeneral[\"MEDIOTRANSPORTE\"]==\"AUTOMOVIL\")]\n",
    "piepiebici = consolidadogeneral[(consolidadogeneral[\"CIUDADEMPLEADO\"]==\"Piedecuesta\")&(consolidadogeneral[\"CIUDADTRABAJO\"]==\"PIEDECUESTA\")&(consolidadogeneral[\"MEDIOTRANSPORTE\"]==\"BICICLETA\")]\n",
    "piepiebus = consolidadogeneral[(consolidadogeneral[\"CIUDADEMPLEADO\"]==\"Piedecuesta\")&(consolidadogeneral[\"CIUDADTRABAJO\"]==\"PIEDECUESTA\")&(consolidadogeneral[\"MEDIOTRANSPORTE\"]==\"BUS CONVENCIONAL\")]\n",
    "piepiecaminando = consolidadogeneral[(consolidadogeneral[\"CIUDADEMPLEADO\"]==\"Piedecuesta\")&(consolidadogeneral[\"CIUDADTRABAJO\"]==\"PIEDECUESTA\")&(consolidadogeneral[\"MEDIOTRANSPORTE\"]==\"CAMINANDO\")]\n",
    "piepiemetro = consolidadogeneral[(consolidadogeneral[\"CIUDADEMPLEADO\"]==\"Piedecuesta\")&(consolidadogeneral[\"CIUDADTRABAJO\"]==\"PIEDECUESTA\")&(consolidadogeneral[\"MEDIOTRANSPORTE\"]==\"METROLINEA\")]\n",
    "piepiemoto = consolidadogeneral[(consolidadogeneral[\"CIUDADEMPLEADO\"]==\"Piedecuesta\")&(consolidadogeneral[\"CIUDADTRABAJO\"]==\"PIEDECUESTA\")&(consolidadogeneral[\"MEDIOTRANSPORTE\"]==\"MOTO\")]\n",
    "piepieotros = consolidadogeneral[(consolidadogeneral[\"CIUDADEMPLEADO\"]==\"Piedecuesta\")&(consolidadogeneral[\"CIUDADTRABAJO\"]==\"PIEDECUESTA\")&(consolidadogeneral[\"MEDIOTRANSPORTE\"]==\"OTROS\")]\n",
    "piepiemediosalternativos = consolidadogeneral[(consolidadogeneral[\"CIUDADEMPLEADO\"]==\"Piedecuesta\")&(consolidadogeneral[\"CIUDADTRABAJO\"]==\"PIEDECUESTA\")&(consolidadogeneral[\"MEDIOTRANSPORTE\"]==\"PATINETA\")]\n",
    "piepietaxi = consolidadogeneral[(consolidadogeneral[\"CIUDADEMPLEADO\"]==\"Piedecuesta\")&(consolidadogeneral[\"CIUDADTRABAJO\"]==\"PIEDECUESTA\")&(consolidadogeneral[\"MEDIOTRANSPORTE\"]==\"TAXI\")]\n",
    "\n",
    "porcenauto = (len(piepieauto)/empleadostotales)*100\n",
    "piepieauto = str(len(piepieauto))+\"-\"+str(\"{0:.2f}\".format(porcenauto))+\"%\"\n",
    "porcenbici = (len(piepiebici)/empleadostotales)*100\n",
    "piepiebici = str(len(piepiebici))+\"-\"+str(\"{0:.2f}\".format(porcenbici))+\"%\"\n",
    "porcenbus = (len(piepiebus)/empleadostotales)*100\n",
    "piepiebus = str(len(piepiebus))+\"-\"+str(\"{0:.2f}\".format(porcenbus))+\"%\"\n",
    "porcencami = (len(piepiecaminando)/empleadostotales)*100\n",
    "piepiecami = str(len(piepiecaminando))+\"-\"+str(\"{0:.2f}\".format(porcencami))+\"%\"\n",
    "porcenmetro = (len(piepiemetro)/empleadostotales)*100\n",
    "piepiemetro = str(len(piepiemetro))+\"-\"+str(\"{0:.2f}\".format(porcenmetro))+\"%\"\n",
    "porcenmoto = (len(piepiemoto)/empleadostotales)*100\n",
    "piepiemoto = str(len(piepiemoto))+\"-\"+str(\"{0:.2f}\".format(porcenmoto))+\"%\"\n",
    "porcenotros = (len(piepieotros)/empleadostotales)*100\n",
    "piepieotros = str(len(piepieotros))+\"-\"+str(\"{0:.2f}\".format(porcenotros))+\"%\"\n",
    "porcenalter = (len(piepiemediosalternativos)/empleadostotales)*100\n",
    "piepiealter = str(len(piepiemediosalternativos))+\"-\"+str(\"{0:.2f}\".format(porcenalter))+\"%\"\n",
    "porcentaxi = (len(piepietaxi)/empleadostotales)*100\n",
    "piepietaxi = str(len(piepietaxi))+\"-\"+str(\"{0:.2f}\".format(porcentaxi))+\"%\"\n"
   ]
  },
  {
   "cell_type": "code",
   "execution_count": 245,
   "metadata": {},
   "outputs": [],
   "source": [
    "estadisticapie = pd.DataFrame(columns=('AUTOMOVIL','BICICLETA', 'BUS CONVENCIONAL', 'CAMINANDO', 'METROLINEA','MOTO','OTROS*','MEDIOS ALTERNATIVOS','TAXI'))\n",
    "estadisticapie.loc[len(estadisticapie)]=[totalauto,totalbici,totalbus,totalcami,totalmetro,totalmoto,totalotros,totalalter,totaltaxi]\n",
    "estadisticapie.loc[len(estadisticapie)]=[piebuauto,piebubici,piebubus,piebucami,piebumetro,piebumoto,piebuotros,piebualter,piebutaxi]\n",
    "estadisticapie.loc[len(estadisticapie)]=[piefloauto,pieflobici,pieflobus,pieflocami,pieflometro,pieflomoto,pieflootros,piefloalter,pieflotaxi]\n",
    "estadisticapie.loc[len(estadisticapie)]=[piegirauto,piegirbici,piegirbus,piegircami,piegirmetro,piegirmoto,piegirotros,piegiralter,piegirtaxi]\n",
    "estadisticapie.loc[len(estadisticapie)]=[piepieauto,piepiebici,piepiebus,piepiecami,piepiemetro,piepiemoto,piepieotros,piepiealter,piepietaxi]\n",
    "estadisticapie = estadisticapie.T\n",
    "estadisticapie.columns = ['Total','Bucaramanga', 'Floridablanca', 'Girón', 'Piedecuesta']"
   ]
  },
  {
   "cell_type": "code",
   "execution_count": null,
   "metadata": {},
   "outputs": [],
   "source": [
    "estadisticabucara.to_excel('origendestino/porcentajes/bucara.xlsx')\n",
    "estadisticaflori.to_excel('origendestino/porcentajes/florida.xlsx')\n",
    "estadisticagiron.to_excel('origendestino/porcentajes/giron.xlsx')\n",
    "estadisticapie.to_excel('origendestino/porcentajes/pie.xlsx')"
   ]
  },
  {
   "cell_type": "code",
   "execution_count": null,
   "metadata": {},
   "outputs": [],
   "source": []
  },
  {
   "cell_type": "code",
   "execution_count": null,
   "metadata": {},
   "outputs": [],
   "source": []
  },
  {
   "cell_type": "code",
   "execution_count": null,
   "metadata": {},
   "outputs": [],
   "source": []
  },
  {
   "cell_type": "code",
   "execution_count": 51,
   "metadata": {},
   "outputs": [],
   "source": [
    "#consolidadogeneral.to_excel('empleadosmap.xlsx')\n",
    "#consolidadogeneral2.to_excel('lugaresmap.xlsx')\n",
    "#consolidadogeneral3.to_excel('empnodupmap.xlsx')\n",
    "#consotransporte.to_excel('consotransporte.xlsx')"
   ]
  },
  {
   "cell_type": "code",
   "execution_count": 51,
   "metadata": {},
   "outputs": [],
   "source": [
    "#consotransporte.to_excel('consotransporte.xlsx')\n",
    "#consolidadogeneral.to_excel('consolidadogeneral.xlsx')\n",
    "#consoobra.to_excel('consolidadoobra.xlsx')\n",
    "#consomanu.to_excel('consolidadomanufactura.xlsx')"
   ]
  },
  {
   "cell_type": "code",
   "execution_count": null,
   "metadata": {},
   "outputs": [],
   "source": [
    "#obranodup.to_excel('obranodup.xlsx')\n",
    "#manunodup.to_excel('manunodup.xlsx')"
   ]
  },
  {
   "cell_type": "code",
   "execution_count": null,
   "metadata": {},
   "outputs": [],
   "source": []
  },
  {
   "cell_type": "code",
   "execution_count": 58,
   "metadata": {},
   "outputs": [],
   "source": [
    "consolidadogeneral3 = pd.concat([obranodup, manunodup, comernodup], axis=0, ignore_index = True)\n",
    "#print(\"numero total de empresas sin duplicado: \"+str(len(consolidadogeneral3)))"
   ]
  },
  {
   "cell_type": "code",
   "execution_count": 56,
   "metadata": {},
   "outputs": [],
   "source": [
    "primlist = consolidadogeneral3[(consolidadogeneral3[\"CIIU1\"]==2610) | (consolidadogeneral3[\"CIIU1\"]==2620)\n",
    "                    | (consolidadogeneral3[\"CIIU1\"]==2630)| (consolidadogeneral3[\"CIIU1\"]==2640)\n",
    "                    | (consolidadogeneral3[\"CIIU1\"]==2651)| (consolidadogeneral3[\"CIIU1\"]==2652)\n",
    "                    | (consolidadogeneral3[\"CIIU1\"]==2660)| (consolidadogeneral3[\"CIIU1\"]==2670)\n",
    "                    | (consolidadogeneral3[\"CIIU1\"]==2680)| (consolidadogeneral3[\"CIIU1\"]==2910)\n",
    "                    | (consolidadogeneral3[\"CIIU1\"]==2920)| (consolidadogeneral3[\"CIIU1\"]==2930)\n",
    "                    | (consolidadogeneral3[\"CIIU1\"]==3110)| (consolidadogeneral3[\"CIIU1\"]==3120)\n",
    "                    | (consolidadogeneral3[\"CIIU1\"]==3091)\n",
    "                    ]\n",
    "\n",
    "seglist = consolidadogeneral3[(consolidadogeneral3[\"CIIU1\"]==4511) | (consolidadogeneral3[\"CIIU1\"]==4512)\n",
    "                    | (consolidadogeneral3[\"CIIU1\"]==4520)| (consolidadogeneral3[\"CIIU1\"]==4530)\n",
    "                    | (consolidadogeneral3[\"CIIU1\"]==4541)| (consolidadogeneral3[\"CIIU1\"]==4542)\n",
    "                    |(consolidadogeneral3[\"CIIU1\"]==4644) | (consolidadogeneral3[\"CIIU1\"]==4649)\n",
    "                    | (consolidadogeneral3[\"CIIU1\"]==4663)| (consolidadogeneral3[\"CIIU1\"]==4752)\n",
    "                    | (consolidadogeneral3[\"CIIU1\"]==4761)\n",
    "                    ]\n",
    "\n",
    "terlist = consolidadogeneral3[(consolidadogeneral3[\"CIIU1\"]==9511) | (consolidadogeneral3[\"CIIU1\"]==9512)\n",
    "                    | (consolidadogeneral3[\"CIIU1\"]==9521)| (consolidadogeneral3[\"CIIU1\"]==9522)\n",
    "                    | (consolidadogeneral3[\"CIIU1\"]==9523)| (consolidadogeneral3[\"CIIU1\"]==9524)\n",
    "                    | (consolidadogeneral3[\"CIIU1\"]==9529) | (consolidadogeneral3[\"CIIU1\"]==9601)\n",
    "                    ]\n"
   ]
  },
  {
   "cell_type": "code",
   "execution_count": 57,
   "metadata": {},
   "outputs": [
    {
     "name": "stdout",
     "output_type": "stream",
     "text": [
      "numero total de empresas consolidado especial: 1367 primer listado: 209 segundo listado: 1052 tercer listado: 106\n"
     ]
    }
   ],
   "source": [
    "consolidadoespecial = pd.concat([primlist, seglist, terlist], axis=0, ignore_index = True)\n",
    "print(\"numero total de empresas consolidado especial: \"+str(len(consolidadoespecial))+\" primer listado: \"+str(len(primlist))+\" segundo listado: \"+str(len(seglist))+\" tercer listado: \"+str(len(terlist)))"
   ]
  },
  {
   "cell_type": "code",
   "execution_count": 54,
   "metadata": {},
   "outputs": [],
   "source": [
    "consolidadoespecial.to_excel('consolidado-sectores-especificos.xlsx')\n",
    "primlist.to_excel('primer-listado-separado.xlsx')\n",
    "seglist.to_excel('segundo-listado-separado.xlsx')\n",
    "terlist.to_excel('tercer-listado-separado.xlsx')"
   ]
  },
  {
   "cell_type": "code",
   "execution_count": null,
   "metadata": {},
   "outputs": [],
   "source": []
  },
  {
   "cell_type": "code",
   "execution_count": null,
   "metadata": {},
   "outputs": [],
   "source": []
  },
  {
   "cell_type": "code",
   "execution_count": null,
   "metadata": {},
   "outputs": [],
   "source": []
  }
 ],
 "metadata": {
  "kernelspec": {
   "display_name": "Python 3",
   "language": "python",
   "name": "python3"
  },
  "language_info": {
   "codemirror_mode": {
    "name": "ipython",
    "version": 3
   },
   "file_extension": ".py",
   "mimetype": "text/x-python",
   "name": "python",
   "nbconvert_exporter": "python",
   "pygments_lexer": "ipython3",
   "version": "3.7.4"
  }
 },
 "nbformat": 4,
 "nbformat_minor": 2
}
